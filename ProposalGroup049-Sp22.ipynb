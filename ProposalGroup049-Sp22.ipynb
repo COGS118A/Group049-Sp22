{
 "cells": [
  {
   "cell_type": "markdown",
   "metadata": {},
   "source": [
    "# COGS 118A- Project Proposal"
   ]
  },
  {
   "cell_type": "markdown",
   "metadata": {},
   "source": [
    "# Project Description\n",
    "\n",
    "You will design and execute a machine learning project. There are a few constraints on the nature of the allowed project. \n",
    "- The problem addressed will not be a \"toy problem\" or \"common training students problem\" like mtcars, iris, palmer penguins etc.\n",
    "- The dataset will have >1k observations and >5 variables. I'd prefer more like >10k observations and >10 variables. A general rule is that if you have >100x more observations than variables, your solution will likely generalize a lot better. The goal of training a supervised machine learning model is to learn the underlying pattern in a dataset in order to generalize well to unseen data, so choosing a large dataset is very important.\n",
    "\n",
    "- The project will include a model selection and/or feature selection component where you will be looking for the best setup to maximize the performance of your ML system.\n",
    "- You will evaluate the performance of your ML system using more than one appropriate metric\n",
    "- You will be writing a report describing and discussing these accomplishments\n",
    "\n",
    "\n",
    "Feel free to delete this description section when you hand in your proposal."
   ]
  },
  {
   "cell_type": "markdown",
   "metadata": {},
   "source": [
    "### Peer Review\n",
    "\n",
    "You will all have an opportunity to look at the Project Proposals of other groups to fuel your creativity and get more ideas for how you can improve your own projects. \n",
    "\n",
    "Both the project proposal and project checkpoint will have peer review."
   ]
  },
  {
   "cell_type": "markdown",
   "metadata": {},
   "source": [
    "# Names\n",
    "\n",
    "Hopefully your team is at least this good. Obviously you should replace these with your names.\n",
    "\n",
    "- Tianyu Yu\n",
    "- Ziheng Chen \n",
    "- Zhou Sun\n",
    "-"
   ]
  },
  {
   "cell_type": "markdown",
   "metadata": {},
   "source": [
    "# Abstract \n",
    "This section should be short and clearly stated. It should be a single paragraph <200 words.  It should summarize: \n",
    "- what your goal/problem is\n",
    "- what the data used represents and how they are measured\n",
    "- what you will be doing with the data\n",
    "- how performance/success will be measured\n",
    "\n",
    "This project aims to create a model to recognize German traffic signs when given traffic signs pictures. The project data consists of images for both training and testing and class labels for each photo. Class labels are used for recognizing the traffic signs; they are descriptions of the traffic signs such as \"No entry\" or \"Turn left ahead.\"   We will shuffle the training data first and then one-hot encoding the labels. After that, we will use the training data and encoded labels to train multiple machine learning models and pick the one with the highest accuracy. We will measure the performance of the models using accuracy, which is calculated by the number of correct predictions / total number of data. Finally, we will run the best performance model on different datasets to report its performance under various conditions. "
   ]
  },
  {
   "cell_type": "markdown",
   "metadata": {},
   "source": [
    "# Background\n",
    "\n",
    "Traffic sign recognition has become a more popular topic in the past decade. With the enhancement of advanced technology, people have put eyes on automated vehicles. In order for the vehicles to be automated, the vehicle itself has to understand all the signs and the road traffic in real time. Thus the vehicle itself can act as a driver and does not require any input or interference by human. Therefore, for the safety of the passengers, traffic sign recognition is significantly important for autonomous driving.\n",
    "\n",
    "Traffic signs recognition needs two parts: localization and recognition. Localization is for detecting and localizing where a traffic sign is in the image, and recognition is for identifying the sign. Also, because many images are low contrast and hard to distinguish, we can use “an algorithm called Contrast Limited Adaptive Histogram Equalization (CLAHE)” to increase the contrast. Thus, we can make images easier for computer to recognize<a name=\"lorenz\"></a>[<sup>[1]</sup>](#lorenznote).\n",
    "\n",
    "Research in the past has conducted on the traffic sign recognition and one difficulty that always arise is the lighting conditions in the outdoor environments<a name=\"admonish\"></a>[<sup>[2]</sup>](#admonishnote). This study considers the problem of lighting conditions and try to resolve it with a computer algorithm. The study recognizes that lighting conditions are changeable and not controllable, thus it is not possible to generate a complete model of all possibilities of the sign’s appearance<a name=\"admonish\"></a>[<sup>[2]</sup>](#admonishnote). The study proposed an algorithm that takes only the Hue and Saturation components in order to avoid lighting condition, this way, the recognition will be less affected by the lighting conditions<a name=\"admonish\"></a>[<sup>[2]</sup>](#admonishnote).\n",
    "\n",
    "Another paper utilizes the live speed of cars to help improve the recognition algorithm <a name=\"admonish\"></a>[<sup>[3]</sup>](#admonishnote). By doing this, they can speed up the algorithm while remain the high accuracy."
   ]
  },
  {
   "cell_type": "markdown",
   "metadata": {},
   "source": [
    "# Problem Statement\n",
    "\n",
    "Clearly describe the problem that you are solving. Avoid ambiguous words. The problem described should be well defined and should have at least one ML-relevant potential solution. Additionally, describe the problem thoroughly such that it is clear that the problem is quantifiable (the problem can be expressed in mathematical or logical terms), measurable (the problem can be measured by some metric and clearly observed), and replicable (the problem can be reproduced and occurs more than once)."
   ]
  },
  {
   "cell_type": "markdown",
   "metadata": {},
   "source": [
    "The problem that we are trying to solve is to create an algorithm that can accurately classify traffic signs so that it can be used as a module in autonomous vehicles. The process to solving the problem will involve testing and training sets from a centralized dataset using a CNN or PCA approach to classification. The accuracy with which the model can classify each image/sign would be a quantifiable measure of how successful the model is. The goal is to reach a 98% accuracy in prediction, as that is the benchmark for the dataset that we will be using. \n"
   ]
  },
  {
   "cell_type": "markdown",
   "metadata": {},
   "source": [
    "# Data\n",
    "\n",
    "You should have a strong idea of what dataset(s) will be used to accomplish this project. \n",
    "\n",
    "If you know what (some) of the data you will use are please give the following infomration for each dataset\n",
    "- link/reference to obtain it\n",
    "- description of the size of the dataset (# of variables, # of observations)\n",
    "- what an observation consists of\n",
    "- what some critical variables are, how they are represented\n",
    "- any special handling, transformations, cleaning, etc will be needed\n",
    "\n",
    "If you don't yet know what your dataset(s) will be, you should be able to describe what you desire in terms of the above bullets"
   ]
  },
  {
   "cell_type": "markdown",
   "metadata": {},
   "source": [
    "Proposed Dataset: \n",
    "https://www.kaggle.com/datasets/meowmeowmeowmeowmeow/gtsrb-german-traffic-sign?select=Train.csv\n",
    "\n",
    "- This dataset contains a total of 50,000 images, with each image being a traffic sign that can be found on German public roads\n",
    "- The dataset also includes 42 classes, such as speed limits, types of curves, stop, yield signs and more \n",
    "- Some critical values include the width and height of the image as well as its class ID, which are presented in a CSV file, as well as the RGB data of each image, which will be used to classify the image\n",
    "- Special handling would be to select the specific classes and features that we want to use to train our algorithm\n"
   ]
  },
  {
   "cell_type": "markdown",
   "metadata": {},
   "source": [
    "# Proposed Solution\n",
    "\n",
    "In this section, clearly describe a solution to the problem. The solution should be applicable to the project domain and appropriate for the dataset(s) or input(s) given. Provide enough detail (e.g., algorithmic description and/or theoretical properties) to convince us that your solution is applicable. Make sure to describe how the solution will be tested.  \n",
    "\n",
    "If you know details already, describe how (e.g., library used, function calls) you plan to implement the solution in a way that is reproducible.\n",
    "\n",
    "If it is appropriate to the problem statement, describe a benchmark model<a name=\"sota\"></a>[<sup>[3]</sup>](#sotanote) against which your solution will be compared. "
   ]
  },
  {
   "cell_type": "markdown",
   "metadata": {},
   "source": [
    "Our proposed solution is to use a CNN to classify the images in the dataset. The images themselves would need to be converted to a format such that the image data can be fit into numpy arrays. Additionally, the labels of the dataset would need to be one-hot encoded so that calculations and predictions can be made. The model itself would be made using libraries such as tensorflow or keras, and the image data would need to be shuffled for the models to be trained properly. A portion of the dataset would be used as training data while the other will be used as testing/validation data. The solution will be tested by comparing the predicted ID of an image with the image’s actual class ID to calculate the accuracy of the model. The benchmark model against which our solution will be tested is a model by Shivank Sharma with a 98% accuracy: https://www.kaggle.com/code/shivank856/gtsrb-cnn-98-test-accuracy\n"
   ]
  },
  {
   "cell_type": "markdown",
   "metadata": {},
   "source": [
    "# Evaluation Metrics\n",
    "\n",
    "Propose at least one evaluation metric that can be used to quantify the performance of both the benchmark model and the solution model. The evaluation metric(s) you propose should be appropriate given the context of the data, the problem statement, and the intended solution. Describe how the evaluation metric(s) are derived and provide an example of their mathematical representations (if applicable). Complex evaluation metrics should be clearly defined and quantifiable (can be expressed in mathematical or logical terms)."
   ]
  },
  {
   "cell_type": "markdown",
   "metadata": {},
   "source": [
    "# Ethics & Privacy"
   ]
  },
  {
   "cell_type": "markdown",
   "metadata": {},
   "source": [
    "If your project has obvious potential concerns with ethics or data privacy discuss that here.  Almost every ML project put into production can have ethical implications if you use your imagination. Use your imagination.\n",
    "\n",
    "Even if you can't come up with an obvious ethical concern that should be addressed, you should know that a large number of ML projects that go into producation have unintended consequences and ethical problems once in production. How will your team address these issues?\n",
    "\n",
    "Consider a tool to help you address the potential issues such as https://deon.drivendata.org"
   ]
  },
  {
   "cell_type": "markdown",
   "metadata": {},
   "source": [
    "# Team Expectations "
   ]
  },
  {
   "cell_type": "markdown",
   "metadata": {},
   "source": [
    "Put things here that cement how you will interact/communicate as a team, how you will handle conflict and difficulty, how you will handle making decisions and setting goals/schedule, how much work you expect from each other, how you will handle deadlines, etc...\n",
    "* *Be on time to attend group discussions*\n",
    "* *Be respectful to each other*\n",
    "* *Be responsible for individual parts*\n",
    "* *Be open minded about others' ideas*\n",
    "* *Be aware of the dead lines*\n",
    "* *Be ready to learn during the project*\n",
    "* *Be prepared for challenges*"
   ]
  },
  {
   "cell_type": "markdown",
   "metadata": {},
   "source": [
    "# Project Timeline Proposal"
   ]
  },
  {
   "cell_type": "markdown",
   "metadata": {},
   "source": [
    "Replace this with something meaningful that is appropriate for your needs. It doesn't have to be something that fits this format.  It doesn't have to be set in stone... \"no battle plan survives contact with the enemy\". But you need a battle plan nonetheless, and you need to keep it updated so you understand what you are trying to accomplish, who's responsible for what, and what the expected due dates are for each item.\n",
    "\n",
    "- | Meeting Date  | Meeting Time| Completed Before Meeting  | Discuss at Meeting |\n",
    "- |---|---|---|---|\n",
    "- | 04/24  |  9 PM |  Brainstorm topics/questions (all)  | Search for datasets; Determine best form of communication; Discuss and decide on final project topic; discuss hypothesis; begin background research; finish the proposal - and submit to the git repo| \n",
    "- | 04/29  |  9 PM |  Do background research on topic (all) | Clean the data; Get training and testing data; finish peer review of proposals | \n",
    "- | 05/13  | 9 PM  | Review and update the proposal  | Discuss image recognition and possible analytical approaches; Finish and submit the Checkpoint   |\n",
    "- | 05/20  | 9 PM  | do some EDA (all) | Review/Edit EDA; Peer review of checkpoint   |\n",
    "- | 05/30  | 9 PM  | Finalize wrangling/EDA; Begin programming for project (all) | Discuss/edit project code |\n",
    "- | 06/03  | 9 PM  | Complete analysis; Finish draft (all)| Discuss/edit full project |\n",
    "- | 06/08  | Before 11:59 PM  | NA | Final project; team eval survey  |"
   ]
  },
  {
   "cell_type": "markdown",
   "metadata": {},
   "source": [
    "# Footnotes\n",
    "<a name=\"lorenznote\"></a>1.[^](#lorenz): Dh, Rosebrock, A., Rathod, Y., Gulzar, S., Andrey, Cassar, J. P., Klimchuk, N., Holdroyd, T., Zizo, Trevor, Andy, Davi, Butts, N., Suraj, Denis, Shahril, Biram, Ikram, A., Keith, … Shamsudheen. (2022, January 31). Traffic sign classification with Keras and deep learning. PyImageSearch. Retrieved April 24, 2022, from https://pyimagesearch.com/2019/11/04/traffic-sign-classification-with-keras-and-deep-learning/#download-the-code\n",
    "<br> \n",
    "<a name=\"admonishnote\"></a>2.[^](#admonish): Escalera, A. de la, Armingol, J. M., &amp; Mata, M. (2003, January 15). Traffic sign recognition and analysis for intelligent vehicles. Image and Vision Computing. Retrieved April 24, 2022, from https://www.sciencedirect.com/science/article/abs/pii/S0262885602001567?via%3Dihub <br>\n",
    "<a name=\"admonishnote\"></a>3.[^](#admonish): Shustanov, A., &amp; Yakimov, P. (2017). A method for traffic sign recognition with CNN using GPU. Proceedings of the 14th International Joint Conference on e-Business and Telecommunications. https://doi.org/10.5220/0006436100420047  <br>\n"
   ]
  },
  {
   "cell_type": "code",
   "execution_count": null,
   "metadata": {},
   "outputs": [],
   "source": []
  }
 ],
 "metadata": {
  "kernelspec": {
   "display_name": "Python 3 (ipykernel)",
   "language": "python",
   "name": "python3"
  },
  "language_info": {
   "codemirror_mode": {
    "name": "ipython",
    "version": 3
   },
   "file_extension": ".py",
   "mimetype": "text/x-python",
   "name": "python",
   "nbconvert_exporter": "python",
   "pygments_lexer": "ipython3",
   "version": "3.9.7"
  }
 },
 "nbformat": 4,
 "nbformat_minor": 2
}
