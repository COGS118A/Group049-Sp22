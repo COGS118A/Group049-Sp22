{
 "cells": [
  {
   "cell_type": "markdown",
   "metadata": {},
   "source": [
    "# COGS 118A - Final Project"
   ]
  },
  {
   "cell_type": "markdown",
   "metadata": {},
   "source": [
    "# A Model to Classify German Traffic Signs\n",
    "\n",
    "## Group members\n",
    "\n",
    "- Tianyu Yu\n",
    "- Ziheng Chen \n",
    "- Zhou Sun\n",
    "- Muhan He"
   ]
  },
  {
   "cell_type": "markdown",
   "metadata": {},
   "source": [
    "# Abstract \n",
    "This project aims to create a model to recognize German traffic signs when given traffic signs pictures. \n",
    "\n",
    "We want to work on this traffic sign recognition topic because it is the foundation of self-driving cars. Companies like Tesla are working hard toward fully self-driving vehicles, and the foundation of the algorithm is to make cars read the information on roads. Traffic sign recognition is crucial in this area because it enables cars to understand current speed conditions, road situations, and traffic rules. We chose this dataset of German traffic signs since it is beautifully cleaned and widely used in the picture recognition topic.\n",
    "\n",
    "The project data consists of images for both training and testing and class labels for each photo. Class labels are used for recognizing the traffic signs; they are descriptions of the traffic signs, such as \"No entry\" or \"Turn left ahead.\" We will shuffle the training data first and then one-hot encoding the labels. After that, we will use the training data and encoded labels to train multiple machine learning models and pick the one with the highest accuracy. Next, we will measure the performance of the models using accuracy, which is calculated by the number of correct predictions / total number of data. Finally, we will improve the accuracy by trying different methods/models (such as TensorFlow). We expect to get at least 90 percent accuracy at the end of this project."
   ]
  },
  {
   "cell_type": "markdown",
   "metadata": {},
   "source": [
    "# Background\n",
    "\n",
    "Traffic sign recognition has become a more popular topic in the past decade. With the enhancement of advanced technology, people have put eyes on automated vehicles. In order for the vehicles to be automated, the vehicle itself has to understand all the signs and the road traffic in real time. Thus the vehicle itself can act as a driver and does not require any input or interference by human. Therefore, for the safety of the passengers, traffic sign recognition is significantly important for autonomous driving.\n",
    "\n",
    "Traffic signs recognition needs two parts: localization and recognition. Localization is for detecting and localizing where a traffic sign is in the image, and recognition is for identifying the sign. Also, because many images are low contrast and hard to distinguish, we can use “an algorithm called Contrast Limited Adaptive Histogram Equalization (CLAHE)” to increase the contrast. Thus, we can make images easier for computer to recognize<a name=\"lorenz\"></a>[<sup>[1]</sup>](#lorenznote).\n",
    "\n",
    "Research in the past has conducted on the traffic sign recognition and one difficulty that always arise is the lighting conditions in the outdoor environments<a name=\"admonish\"></a>[<sup>[2]</sup>](#admonishnote). This study considers the problem of lighting conditions and try to resolve it with a computer algorithm. The study recognizes that lighting conditions are changeable and not controllable, thus it is not possible to generate a complete model of all possibilities of the sign’s appearance<a name=\"admonish\"></a>[<sup>[2]</sup>](#admonishnote). The study proposed an algorithm that takes only the Hue and Saturation components in order to avoid lighting condition, this way, the recognition will be less affected by the lighting conditions<a name=\"admonish\"></a>[<sup>[2]</sup>](#admonishnote).\n",
    "\n",
    "Another paper utilizes the live speed of cars to help improve the recognition algorithm <a name=\"admonish\"></a>[<sup>[3]</sup>](#admonishnote). By doing this, they can speed up the algorithm while remain the high accuracy."
   ]
  },
  {
   "cell_type": "markdown",
   "metadata": {},
   "source": [
    "# Problem Statement\n",
    "\n",
    "Our goal is to use the data from our dataset to build a CNN to accurately classify traffic signals that can be found on German roads. Autonomous vehicle technology is rapidly improving, and having the ability to recognize a traffic sign, and being able to act upon is an indispensable part of such technology. The dataset will be divided into a training and test set. The training set will be used to train the CNN, and the testing set will be used to measure the accuracy of the CNN model. The success of the model will be measured through the accuracy with which it classifies the image of the traffic sign passed into the model. The overall goal is to reach 98% accuracy with the CNN. The data used will be German traffic signs only, as each country has different types of traffic signals. However, the same approach can be used to train a CNN to classify signs from different countries, as long as the dataset contains the traffic signs from that country specifically. "
   ]
  },
  {
   "cell_type": "markdown",
   "metadata": {},
   "source": [
    "# Data\n",
    "\n",
    "Link tof the dataset: https://www.kaggle.com/datasets/meowmeowmeowmeowmeow/gtsrb-german-traffic-sign?select=Train.csv\n",
    "\n",
    "The dataset we are using has: \n",
    "- 43 Classes, i.e. 43 different German Traffic Signs including, but are not limited to speed limits, warnings, yield etc. \n",
    "- More than 50,000 total images of traffic signals, procured from locations around Germany\n",
    "- Each observation is one of the images in the dataset, which belongs to one of the 43 classes\n",
    "\n",
    "An entry in the Train, Test and Meta CSVs contain: \n",
    "- the size of the image\n",
    "- the Region of Interest (Roi)\n",
    "- the class id (which traffic sign it is)\n",
    "- the path to the image \n",
    "\n",
    "Critical Variables: \n",
    "- The RGB data extracted from each image\n",
    "- Each pixel is represented by a vector of length three, with each value representing Red, Blue, Green\n",
    "- The category/classID of traffic sign each image in the training set belongs to\n",
    "- The predicted category/classID of the images in the testing set"
   ]
  },
  {
   "cell_type": "code",
   "execution_count": 1,
   "metadata": {},
   "outputs": [],
   "source": [
    "# Import Visualization Tools\n",
    "import numpy as np\n",
    "import pandas as pd\n",
    "import os\n",
    "from PIL import Image\n",
    "import matplotlib.pyplot as plt\n",
    "from matplotlib import style\n",
    "style.use('fivethirtyeight')\n",
    "\n",
    "# Assigning Dataset File Paths\n",
    "data_dir = 'Data/'\n",
    "train_path = 'Data/Train/'\n",
    "test_path = 'Data/Test/'"
   ]
  },
  {
   "cell_type": "code",
   "execution_count": 2,
   "metadata": {},
   "outputs": [],
   "source": [
    "# read the 3 csv files\n",
    "df_train = pd.read_csv('Data/Train.csv')\n",
    "df_test = pd.read_csv('Data/Test.csv')\n",
    "df_meta = pd.read_csv('Data/Meta.csv')"
   ]
  },
  {
   "cell_type": "code",
   "execution_count": 3,
   "metadata": {},
   "outputs": [
    {
     "data": {
      "text/html": [
       "<div>\n",
       "<style scoped>\n",
       "    .dataframe tbody tr th:only-of-type {\n",
       "        vertical-align: middle;\n",
       "    }\n",
       "\n",
       "    .dataframe tbody tr th {\n",
       "        vertical-align: top;\n",
       "    }\n",
       "\n",
       "    .dataframe thead th {\n",
       "        text-align: right;\n",
       "    }\n",
       "</style>\n",
       "<table border=\"1\" class=\"dataframe\">\n",
       "  <thead>\n",
       "    <tr style=\"text-align: right;\">\n",
       "      <th></th>\n",
       "      <th>Width</th>\n",
       "      <th>Height</th>\n",
       "      <th>Roi.X1</th>\n",
       "      <th>Roi.Y1</th>\n",
       "      <th>Roi.X2</th>\n",
       "      <th>Roi.Y2</th>\n",
       "      <th>ClassId</th>\n",
       "      <th>Path</th>\n",
       "    </tr>\n",
       "  </thead>\n",
       "  <tbody>\n",
       "    <tr>\n",
       "      <th>0</th>\n",
       "      <td>27</td>\n",
       "      <td>26</td>\n",
       "      <td>5</td>\n",
       "      <td>5</td>\n",
       "      <td>22</td>\n",
       "      <td>20</td>\n",
       "      <td>20</td>\n",
       "      <td>Train/20/00020_00000_00000.png</td>\n",
       "    </tr>\n",
       "    <tr>\n",
       "      <th>1</th>\n",
       "      <td>28</td>\n",
       "      <td>27</td>\n",
       "      <td>5</td>\n",
       "      <td>6</td>\n",
       "      <td>23</td>\n",
       "      <td>22</td>\n",
       "      <td>20</td>\n",
       "      <td>Train/20/00020_00000_00001.png</td>\n",
       "    </tr>\n",
       "    <tr>\n",
       "      <th>2</th>\n",
       "      <td>29</td>\n",
       "      <td>26</td>\n",
       "      <td>6</td>\n",
       "      <td>5</td>\n",
       "      <td>24</td>\n",
       "      <td>21</td>\n",
       "      <td>20</td>\n",
       "      <td>Train/20/00020_00000_00002.png</td>\n",
       "    </tr>\n",
       "    <tr>\n",
       "      <th>3</th>\n",
       "      <td>28</td>\n",
       "      <td>27</td>\n",
       "      <td>5</td>\n",
       "      <td>6</td>\n",
       "      <td>23</td>\n",
       "      <td>22</td>\n",
       "      <td>20</td>\n",
       "      <td>Train/20/00020_00000_00003.png</td>\n",
       "    </tr>\n",
       "    <tr>\n",
       "      <th>4</th>\n",
       "      <td>28</td>\n",
       "      <td>26</td>\n",
       "      <td>5</td>\n",
       "      <td>5</td>\n",
       "      <td>23</td>\n",
       "      <td>21</td>\n",
       "      <td>20</td>\n",
       "      <td>Train/20/00020_00000_00004.png</td>\n",
       "    </tr>\n",
       "  </tbody>\n",
       "</table>\n",
       "</div>"
      ],
      "text/plain": [
       "   Width  Height  Roi.X1  Roi.Y1  Roi.X2  Roi.Y2  ClassId  \\\n",
       "0     27      26       5       5      22      20       20   \n",
       "1     28      27       5       6      23      22       20   \n",
       "2     29      26       6       5      24      21       20   \n",
       "3     28      27       5       6      23      22       20   \n",
       "4     28      26       5       5      23      21       20   \n",
       "\n",
       "                             Path  \n",
       "0  Train/20/00020_00000_00000.png  \n",
       "1  Train/20/00020_00000_00001.png  \n",
       "2  Train/20/00020_00000_00002.png  \n",
       "3  Train/20/00020_00000_00003.png  \n",
       "4  Train/20/00020_00000_00004.png  "
      ]
     },
     "execution_count": 3,
     "metadata": {},
     "output_type": "execute_result"
    }
   ],
   "source": [
    "# check on the df_train\n",
    "df_train.head()"
   ]
  },
  {
   "cell_type": "markdown",
   "metadata": {},
   "source": [
    "Each observation in df_train contains 8 features. The width is the width of the image corresponding to the path of the image. The height is the height of the image. Roi.X1 is the upper left x coordinate of the sign on the image. Roi.Y1 is the upper left y coordinate of the sign of the image. Roi.X2 is the lower right x coordinate of the sign of the image. Roi.Y2 is the lower right y coordinate of the sign of the image. ClassId is the class of provided image and path is the path in the folder to the corresponding image."
   ]
  },
  {
   "cell_type": "code",
   "execution_count": 4,
   "metadata": {
    "scrolled": true
   },
   "outputs": [
    {
     "data": {
      "text/html": [
       "<div>\n",
       "<style scoped>\n",
       "    .dataframe tbody tr th:only-of-type {\n",
       "        vertical-align: middle;\n",
       "    }\n",
       "\n",
       "    .dataframe tbody tr th {\n",
       "        vertical-align: top;\n",
       "    }\n",
       "\n",
       "    .dataframe thead th {\n",
       "        text-align: right;\n",
       "    }\n",
       "</style>\n",
       "<table border=\"1\" class=\"dataframe\">\n",
       "  <thead>\n",
       "    <tr style=\"text-align: right;\">\n",
       "      <th></th>\n",
       "      <th>Width</th>\n",
       "      <th>Height</th>\n",
       "      <th>Roi.X1</th>\n",
       "      <th>Roi.Y1</th>\n",
       "      <th>Roi.X2</th>\n",
       "      <th>Roi.Y2</th>\n",
       "      <th>ClassId</th>\n",
       "      <th>Path</th>\n",
       "    </tr>\n",
       "  </thead>\n",
       "  <tbody>\n",
       "    <tr>\n",
       "      <th>0</th>\n",
       "      <td>53</td>\n",
       "      <td>54</td>\n",
       "      <td>6</td>\n",
       "      <td>5</td>\n",
       "      <td>48</td>\n",
       "      <td>49</td>\n",
       "      <td>16</td>\n",
       "      <td>Test/00000.png</td>\n",
       "    </tr>\n",
       "    <tr>\n",
       "      <th>1</th>\n",
       "      <td>42</td>\n",
       "      <td>45</td>\n",
       "      <td>5</td>\n",
       "      <td>5</td>\n",
       "      <td>36</td>\n",
       "      <td>40</td>\n",
       "      <td>1</td>\n",
       "      <td>Test/00001.png</td>\n",
       "    </tr>\n",
       "    <tr>\n",
       "      <th>2</th>\n",
       "      <td>48</td>\n",
       "      <td>52</td>\n",
       "      <td>6</td>\n",
       "      <td>6</td>\n",
       "      <td>43</td>\n",
       "      <td>47</td>\n",
       "      <td>38</td>\n",
       "      <td>Test/00002.png</td>\n",
       "    </tr>\n",
       "    <tr>\n",
       "      <th>3</th>\n",
       "      <td>27</td>\n",
       "      <td>29</td>\n",
       "      <td>5</td>\n",
       "      <td>5</td>\n",
       "      <td>22</td>\n",
       "      <td>24</td>\n",
       "      <td>33</td>\n",
       "      <td>Test/00003.png</td>\n",
       "    </tr>\n",
       "    <tr>\n",
       "      <th>4</th>\n",
       "      <td>60</td>\n",
       "      <td>57</td>\n",
       "      <td>5</td>\n",
       "      <td>5</td>\n",
       "      <td>55</td>\n",
       "      <td>52</td>\n",
       "      <td>11</td>\n",
       "      <td>Test/00004.png</td>\n",
       "    </tr>\n",
       "  </tbody>\n",
       "</table>\n",
       "</div>"
      ],
      "text/plain": [
       "   Width  Height  Roi.X1  Roi.Y1  Roi.X2  Roi.Y2  ClassId            Path\n",
       "0     53      54       6       5      48      49       16  Test/00000.png\n",
       "1     42      45       5       5      36      40        1  Test/00001.png\n",
       "2     48      52       6       6      43      47       38  Test/00002.png\n",
       "3     27      29       5       5      22      24       33  Test/00003.png\n",
       "4     60      57       5       5      55      52       11  Test/00004.png"
      ]
     },
     "execution_count": 4,
     "metadata": {},
     "output_type": "execute_result"
    }
   ],
   "source": [
    "# check on the df_test\n",
    "df_test.head()"
   ]
  },
  {
   "cell_type": "markdown",
   "metadata": {},
   "source": [
    "Similar to df_train, each observation also contains 8 features in df_test. The width is the width of the image corresponding to the path of the image. The height is the height of the image. Roi.X1 is the upper left x coordinate of the sign on the image. Roi.Y1 is the upper left y coordinate of the sign of the image. Roi.X2 is the lower right x coordinate of the sign of the image. Roi.Y2 is the lower right y coordinate of the sign of the image. ClassId is the class of provided image and path is the path in the folder to the corresponding image."
   ]
  },
  {
   "cell_type": "code",
   "execution_count": 5,
   "metadata": {},
   "outputs": [
    {
     "data": {
      "text/html": [
       "<div>\n",
       "<style scoped>\n",
       "    .dataframe tbody tr th:only-of-type {\n",
       "        vertical-align: middle;\n",
       "    }\n",
       "\n",
       "    .dataframe tbody tr th {\n",
       "        vertical-align: top;\n",
       "    }\n",
       "\n",
       "    .dataframe thead th {\n",
       "        text-align: right;\n",
       "    }\n",
       "</style>\n",
       "<table border=\"1\" class=\"dataframe\">\n",
       "  <thead>\n",
       "    <tr style=\"text-align: right;\">\n",
       "      <th></th>\n",
       "      <th>Path</th>\n",
       "      <th>ClassId</th>\n",
       "      <th>ShapeId</th>\n",
       "      <th>ColorId</th>\n",
       "      <th>SignId</th>\n",
       "    </tr>\n",
       "  </thead>\n",
       "  <tbody>\n",
       "    <tr>\n",
       "      <th>0</th>\n",
       "      <td>Meta/27.png</td>\n",
       "      <td>27</td>\n",
       "      <td>0</td>\n",
       "      <td>0</td>\n",
       "      <td>1.32</td>\n",
       "    </tr>\n",
       "    <tr>\n",
       "      <th>1</th>\n",
       "      <td>Meta/0.png</td>\n",
       "      <td>0</td>\n",
       "      <td>1</td>\n",
       "      <td>0</td>\n",
       "      <td>3.29</td>\n",
       "    </tr>\n",
       "    <tr>\n",
       "      <th>2</th>\n",
       "      <td>Meta/1.png</td>\n",
       "      <td>1</td>\n",
       "      <td>1</td>\n",
       "      <td>0</td>\n",
       "      <td>3.29</td>\n",
       "    </tr>\n",
       "    <tr>\n",
       "      <th>3</th>\n",
       "      <td>Meta/10.png</td>\n",
       "      <td>10</td>\n",
       "      <td>1</td>\n",
       "      <td>0</td>\n",
       "      <td>3.27</td>\n",
       "    </tr>\n",
       "    <tr>\n",
       "      <th>4</th>\n",
       "      <td>Meta/11.png</td>\n",
       "      <td>11</td>\n",
       "      <td>0</td>\n",
       "      <td>0</td>\n",
       "      <td>1.22</td>\n",
       "    </tr>\n",
       "  </tbody>\n",
       "</table>\n",
       "</div>"
      ],
      "text/plain": [
       "          Path  ClassId  ShapeId  ColorId SignId\n",
       "0  Meta/27.png       27        0        0   1.32\n",
       "1   Meta/0.png        0        1        0   3.29\n",
       "2   Meta/1.png        1        1        0   3.29\n",
       "3  Meta/10.png       10        1        0   3.27\n",
       "4  Meta/11.png       11        0        0   1.22"
      ]
     },
     "execution_count": 5,
     "metadata": {},
     "output_type": "execute_result"
    }
   ],
   "source": [
    "# check on the df_meta\n",
    "df_meta.head()"
   ]
  },
  {
   "cell_type": "markdown",
   "metadata": {},
   "source": [
    "Each observation in df_meta contains 5 features. The path is the path of the corresponding image. The ClassId is the class of provided image. The ShapeId is the shape of sign, 0 for triangle, 1 for circle, 2 for diamond, 3 for hexagon, 4 for inverse triangle. The ColorId is the color of the sign, 0 for red, 1 for blue, 2 for yellow, 3 for white. The SignId is the SignID by the German Traffic Rule."
   ]
  },
  {
   "cell_type": "code",
   "execution_count": 6,
   "metadata": {},
   "outputs": [
    {
     "name": "stdout",
     "output_type": "stream",
     "text": [
      "(39209, 8) (39209, 8)\n"
     ]
    }
   ],
   "source": [
    "# 2 df have the same shape\n",
    "print(df_train.shape, df_train.shape)"
   ]
  },
  {
   "cell_type": "markdown",
   "metadata": {},
   "source": [
    "They look like the same thing with different selections from one bigger data."
   ]
  },
  {
   "cell_type": "code",
   "execution_count": 7,
   "metadata": {},
   "outputs": [
    {
     "data": {
      "text/plain": [
       "(numpy.int64, numpy.int64)"
      ]
     },
     "execution_count": 7,
     "metadata": {},
     "output_type": "execute_result"
    }
   ],
   "source": [
    "type(df_train['ClassId'][0]), type(df_test['ClassId'][0])"
   ]
  },
  {
   "cell_type": "markdown",
   "metadata": {},
   "source": [
    "As we seen in both df_test and df_train, the classIds are types of numpy.ind64. However, they are supposed to represent a class of image not a numerical value of image. Thus we need to change the ClassIds to strings"
   ]
  },
  {
   "cell_type": "code",
   "execution_count": 8,
   "metadata": {},
   "outputs": [
    {
     "data": {
      "text/plain": [
       "(str, str)"
      ]
     },
     "execution_count": 8,
     "metadata": {},
     "output_type": "execute_result"
    }
   ],
   "source": [
    "# check type\n",
    "df_train['ClassId'] = df_train['ClassId'].astype(str)\n",
    "df_test['ClassId'] = df_test['ClassId'].astype(str)\n",
    "type(df_train['ClassId'][0]), type(df_test['ClassId'][0])"
   ]
  },
  {
   "cell_type": "code",
   "execution_count": 9,
   "metadata": {},
   "outputs": [
    {
     "data": {
      "text/plain": [
       "array(['20', '0', '1', '2', '3', '4', '5', '6', '7', '8', '9', '10', '11',\n",
       "       '12', '13', '14', '15', '16', '17', '18', '19', '21', '22', '23',\n",
       "       '24', '25', '26', '27', '28', '29', '30', '31', '32', '33', '34',\n",
       "       '35', '36', '37', '38', '39', '40', '41', '42'], dtype=object)"
      ]
     },
     "execution_count": 9,
     "metadata": {},
     "output_type": "execute_result"
    }
   ],
   "source": [
    "# check unique values\n",
    "df_train['ClassId'].unique()"
   ]
  },
  {
   "cell_type": "code",
   "execution_count": 10,
   "metadata": {},
   "outputs": [
    {
     "data": {
      "text/plain": [
       "array(['16', '1', '38', '33', '11', '18', '12', '25', '35', '7', '23',\n",
       "       '4', '9', '21', '20', '27', '3', '13', '10', '5', '17', '34', '2',\n",
       "       '8', '30', '24', '15', '26', '28', '22', '14', '32', '29', '6',\n",
       "       '36', '40', '41', '31', '19', '0', '39', '42', '37'], dtype=object)"
      ]
     },
     "execution_count": 10,
     "metadata": {},
     "output_type": "execute_result"
    }
   ],
   "source": [
    "# check unique values\n",
    "df_test['ClassId'].unique()"
   ]
  },
  {
   "cell_type": "markdown",
   "metadata": {},
   "source": [
    "Now all of the values in 'ClassId' are in strings, but we want to organize the number so that every values are made of 2 digits"
   ]
  },
  {
   "cell_type": "code",
   "execution_count": 11,
   "metadata": {},
   "outputs": [
    {
     "name": "stderr",
     "output_type": "stream",
     "text": [
      "C:\\Users\\yty20\\AppData\\Local\\Temp\\ipykernel_36304\\887560608.py:4: SettingWithCopyWarning: \n",
      "A value is trying to be set on a copy of a slice from a DataFrame\n",
      "\n",
      "See the caveats in the documentation: https://pandas.pydata.org/pandas-docs/stable/user_guide/indexing.html#returning-a-view-versus-a-copy\n",
      "  df_train['ClassId'][i] = '0' + df_train['ClassId'][i]\n",
      "C:\\Users\\yty20\\AppData\\Local\\Temp\\ipykernel_36304\\887560608.py:7: SettingWithCopyWarning: \n",
      "A value is trying to be set on a copy of a slice from a DataFrame\n",
      "\n",
      "See the caveats in the documentation: https://pandas.pydata.org/pandas-docs/stable/user_guide/indexing.html#returning-a-view-versus-a-copy\n",
      "  df_test['ClassId'][i] = '0' + df_test['ClassId'][i]\n"
     ]
    },
    {
     "data": {
      "text/plain": [
       "array(['20', '00', '01', '02', '03', '04', '05', '06', '07', '08', '09',\n",
       "       '10', '11', '12', '13', '14', '15', '16', '17', '18', '19', '21',\n",
       "       '22', '23', '24', '25', '26', '27', '28', '29', '30', '31', '32',\n",
       "       '33', '34', '35', '36', '37', '38', '39', '40', '41', '42'],\n",
       "      dtype=object)"
      ]
     },
     "execution_count": 11,
     "metadata": {},
     "output_type": "execute_result"
    }
   ],
   "source": [
    "# the classID so that both df_train and df_test have 2 digits in ClassIds\n",
    "for i in range(0, len(df_train['ClassId'])):\n",
    "  if len(df_train['ClassId'][i]) == 1:\n",
    "       df_train['ClassId'][i] = '0' + df_train['ClassId'][i]\n",
    "for i in range(0, len(df_test['ClassId'])):\n",
    "   if len(df_test['ClassId'][i]) == 1:\n",
    "      df_test['ClassId'][i] = '0' + df_test['ClassId'][i]\n",
    "        \n",
    "df_train['ClassId'].unique()"
   ]
  },
  {
   "cell_type": "code",
   "execution_count": 12,
   "metadata": {},
   "outputs": [
    {
     "data": {
      "text/plain": [
       "array(['16', '01', '38', '33', '11', '18', '12', '25', '35', '07', '23',\n",
       "       '04', '09', '21', '20', '27', '03', '13', '10', '05', '17', '34',\n",
       "       '02', '08', '30', '24', '15', '26', '28', '22', '14', '32', '29',\n",
       "       '06', '36', '40', '41', '31', '19', '00', '39', '42', '37'],\n",
       "      dtype=object)"
      ]
     },
     "execution_count": 12,
     "metadata": {},
     "output_type": "execute_result"
    }
   ],
   "source": [
    "df_test['ClassId'].unique()"
   ]
  },
  {
   "cell_type": "code",
   "execution_count": 13,
   "metadata": {},
   "outputs": [
    {
     "data": {
      "text/html": [
       "<div>\n",
       "<style scoped>\n",
       "    .dataframe tbody tr th:only-of-type {\n",
       "        vertical-align: middle;\n",
       "    }\n",
       "\n",
       "    .dataframe tbody tr th {\n",
       "        vertical-align: top;\n",
       "    }\n",
       "\n",
       "    .dataframe thead th {\n",
       "        text-align: right;\n",
       "    }\n",
       "</style>\n",
       "<table border=\"1\" class=\"dataframe\">\n",
       "  <thead>\n",
       "    <tr style=\"text-align: right;\">\n",
       "      <th></th>\n",
       "      <th>Width</th>\n",
       "      <th>Height</th>\n",
       "      <th>Roi.X1</th>\n",
       "      <th>Roi.Y1</th>\n",
       "      <th>Roi.X2</th>\n",
       "      <th>Roi.Y2</th>\n",
       "    </tr>\n",
       "  </thead>\n",
       "  <tbody>\n",
       "    <tr>\n",
       "      <th>count</th>\n",
       "      <td>39209.000000</td>\n",
       "      <td>39209.000000</td>\n",
       "      <td>39209.000000</td>\n",
       "      <td>39209.000000</td>\n",
       "      <td>39209.000000</td>\n",
       "      <td>39209.000000</td>\n",
       "    </tr>\n",
       "    <tr>\n",
       "      <th>mean</th>\n",
       "      <td>50.835880</td>\n",
       "      <td>50.328930</td>\n",
       "      <td>5.999515</td>\n",
       "      <td>5.962381</td>\n",
       "      <td>45.197302</td>\n",
       "      <td>44.728379</td>\n",
       "    </tr>\n",
       "    <tr>\n",
       "      <th>std</th>\n",
       "      <td>24.306933</td>\n",
       "      <td>23.115423</td>\n",
       "      <td>1.475493</td>\n",
       "      <td>1.385440</td>\n",
       "      <td>23.060157</td>\n",
       "      <td>21.971145</td>\n",
       "    </tr>\n",
       "    <tr>\n",
       "      <th>min</th>\n",
       "      <td>25.000000</td>\n",
       "      <td>25.000000</td>\n",
       "      <td>0.000000</td>\n",
       "      <td>5.000000</td>\n",
       "      <td>20.000000</td>\n",
       "      <td>20.000000</td>\n",
       "    </tr>\n",
       "    <tr>\n",
       "      <th>25%</th>\n",
       "      <td>35.000000</td>\n",
       "      <td>35.000000</td>\n",
       "      <td>5.000000</td>\n",
       "      <td>5.000000</td>\n",
       "      <td>29.000000</td>\n",
       "      <td>30.000000</td>\n",
       "    </tr>\n",
       "    <tr>\n",
       "      <th>50%</th>\n",
       "      <td>43.000000</td>\n",
       "      <td>43.000000</td>\n",
       "      <td>6.000000</td>\n",
       "      <td>6.000000</td>\n",
       "      <td>38.000000</td>\n",
       "      <td>38.000000</td>\n",
       "    </tr>\n",
       "    <tr>\n",
       "      <th>75%</th>\n",
       "      <td>58.000000</td>\n",
       "      <td>58.000000</td>\n",
       "      <td>6.000000</td>\n",
       "      <td>6.000000</td>\n",
       "      <td>53.000000</td>\n",
       "      <td>52.000000</td>\n",
       "    </tr>\n",
       "    <tr>\n",
       "      <th>max</th>\n",
       "      <td>243.000000</td>\n",
       "      <td>225.000000</td>\n",
       "      <td>20.000000</td>\n",
       "      <td>20.000000</td>\n",
       "      <td>223.000000</td>\n",
       "      <td>205.000000</td>\n",
       "    </tr>\n",
       "  </tbody>\n",
       "</table>\n",
       "</div>"
      ],
      "text/plain": [
       "              Width        Height        Roi.X1        Roi.Y1        Roi.X2  \\\n",
       "count  39209.000000  39209.000000  39209.000000  39209.000000  39209.000000   \n",
       "mean      50.835880     50.328930      5.999515      5.962381     45.197302   \n",
       "std       24.306933     23.115423      1.475493      1.385440     23.060157   \n",
       "min       25.000000     25.000000      0.000000      5.000000     20.000000   \n",
       "25%       35.000000     35.000000      5.000000      5.000000     29.000000   \n",
       "50%       43.000000     43.000000      6.000000      6.000000     38.000000   \n",
       "75%       58.000000     58.000000      6.000000      6.000000     53.000000   \n",
       "max      243.000000    225.000000     20.000000     20.000000    223.000000   \n",
       "\n",
       "             Roi.Y2  \n",
       "count  39209.000000  \n",
       "mean      44.728379  \n",
       "std       21.971145  \n",
       "min       20.000000  \n",
       "25%       30.000000  \n",
       "50%       38.000000  \n",
       "75%       52.000000  \n",
       "max      205.000000  "
      ]
     },
     "execution_count": 13,
     "metadata": {},
     "output_type": "execute_result"
    }
   ],
   "source": [
    "# columns' info\n",
    "df_train.describe()"
   ]
  },
  {
   "cell_type": "markdown",
   "metadata": {},
   "source": [
    "This shows that there are 39209 observations in the df_train dataset. The average width of the images in df_train are around 50.8. The average height of the images in df_train is around 50.3. Demonstrating that the images in df_train are spare shape images. The average upper left x coordinate of the sign of the image is 5.99 and the average upper left y coordinate of the sign of the iamge is 5.96. The average lower right x coordinate of the sign of the image is 45.20 and the average lower right y coordinate of the sign of the image is 44.73."
   ]
  },
  {
   "cell_type": "code",
   "execution_count": 14,
   "metadata": {},
   "outputs": [
    {
     "data": {
      "text/html": [
       "<div>\n",
       "<style scoped>\n",
       "    .dataframe tbody tr th:only-of-type {\n",
       "        vertical-align: middle;\n",
       "    }\n",
       "\n",
       "    .dataframe tbody tr th {\n",
       "        vertical-align: top;\n",
       "    }\n",
       "\n",
       "    .dataframe thead th {\n",
       "        text-align: right;\n",
       "    }\n",
       "</style>\n",
       "<table border=\"1\" class=\"dataframe\">\n",
       "  <thead>\n",
       "    <tr style=\"text-align: right;\">\n",
       "      <th></th>\n",
       "      <th>Width</th>\n",
       "      <th>Height</th>\n",
       "      <th>Roi.X1</th>\n",
       "      <th>Roi.Y1</th>\n",
       "      <th>Roi.X2</th>\n",
       "      <th>Roi.Y2</th>\n",
       "    </tr>\n",
       "  </thead>\n",
       "  <tbody>\n",
       "    <tr>\n",
       "      <th>count</th>\n",
       "      <td>12630.000000</td>\n",
       "      <td>12630.000000</td>\n",
       "      <td>12630.000000</td>\n",
       "      <td>12630.000000</td>\n",
       "      <td>12630.000000</td>\n",
       "      <td>12630.000000</td>\n",
       "    </tr>\n",
       "    <tr>\n",
       "      <th>mean</th>\n",
       "      <td>50.507759</td>\n",
       "      <td>50.364450</td>\n",
       "      <td>5.998021</td>\n",
       "      <td>5.982423</td>\n",
       "      <td>44.864450</td>\n",
       "      <td>44.758116</td>\n",
       "    </tr>\n",
       "    <tr>\n",
       "      <th>std</th>\n",
       "      <td>25.088483</td>\n",
       "      <td>23.698908</td>\n",
       "      <td>1.543954</td>\n",
       "      <td>1.427424</td>\n",
       "      <td>23.776102</td>\n",
       "      <td>22.494697</td>\n",
       "    </tr>\n",
       "    <tr>\n",
       "      <th>min</th>\n",
       "      <td>25.000000</td>\n",
       "      <td>25.000000</td>\n",
       "      <td>1.000000</td>\n",
       "      <td>5.000000</td>\n",
       "      <td>20.000000</td>\n",
       "      <td>20.000000</td>\n",
       "    </tr>\n",
       "    <tr>\n",
       "      <th>25%</th>\n",
       "      <td>34.000000</td>\n",
       "      <td>35.000000</td>\n",
       "      <td>5.000000</td>\n",
       "      <td>5.000000</td>\n",
       "      <td>29.000000</td>\n",
       "      <td>29.000000</td>\n",
       "    </tr>\n",
       "    <tr>\n",
       "      <th>50%</th>\n",
       "      <td>43.000000</td>\n",
       "      <td>43.000000</td>\n",
       "      <td>6.000000</td>\n",
       "      <td>6.000000</td>\n",
       "      <td>38.000000</td>\n",
       "      <td>38.000000</td>\n",
       "    </tr>\n",
       "    <tr>\n",
       "      <th>75%</th>\n",
       "      <td>58.000000</td>\n",
       "      <td>57.000000</td>\n",
       "      <td>6.000000</td>\n",
       "      <td>6.000000</td>\n",
       "      <td>53.000000</td>\n",
       "      <td>52.000000</td>\n",
       "    </tr>\n",
       "    <tr>\n",
       "      <th>max</th>\n",
       "      <td>266.000000</td>\n",
       "      <td>232.000000</td>\n",
       "      <td>23.000000</td>\n",
       "      <td>19.000000</td>\n",
       "      <td>244.000000</td>\n",
       "      <td>212.000000</td>\n",
       "    </tr>\n",
       "  </tbody>\n",
       "</table>\n",
       "</div>"
      ],
      "text/plain": [
       "              Width        Height        Roi.X1        Roi.Y1        Roi.X2  \\\n",
       "count  12630.000000  12630.000000  12630.000000  12630.000000  12630.000000   \n",
       "mean      50.507759     50.364450      5.998021      5.982423     44.864450   \n",
       "std       25.088483     23.698908      1.543954      1.427424     23.776102   \n",
       "min       25.000000     25.000000      1.000000      5.000000     20.000000   \n",
       "25%       34.000000     35.000000      5.000000      5.000000     29.000000   \n",
       "50%       43.000000     43.000000      6.000000      6.000000     38.000000   \n",
       "75%       58.000000     57.000000      6.000000      6.000000     53.000000   \n",
       "max      266.000000    232.000000     23.000000     19.000000    244.000000   \n",
       "\n",
       "             Roi.Y2  \n",
       "count  12630.000000  \n",
       "mean      44.758116  \n",
       "std       22.494697  \n",
       "min       20.000000  \n",
       "25%       29.000000  \n",
       "50%       38.000000  \n",
       "75%       52.000000  \n",
       "max      212.000000  "
      ]
     },
     "execution_count": 14,
     "metadata": {},
     "output_type": "execute_result"
    }
   ],
   "source": [
    "# columns' info\n",
    "df_test.describe()"
   ]
  },
  {
   "cell_type": "markdown",
   "metadata": {},
   "source": [
    "This shows that there are 39209 observations in the df_test dataset. The average width of the images in df_train are around 50.5. The average height of the images in df_train is around 50.4. Demonstrating that the images in df_test are aslo square shape. The average upper left x coordinate of the sign of the image is 5.99 and the average upper left y coordinate of the sign of the iamge is 5.98. The average lower right x coordinate of the sign of the image is 44.86 and the average lower right y coordinate of the sign of the image is 44.76. Both the upper left xy coordinate and the lower right xy coordinate shows similar average values, this could implies that the signs are at about the same position in each image in both df_test and df_train."
   ]
  },
  {
   "cell_type": "code",
   "execution_count": 15,
   "metadata": {},
   "outputs": [
    {
     "name": "stdout",
     "output_type": "stream",
     "text": [
      "False False\n"
     ]
    }
   ],
   "source": [
    "# There is no nan value for both df\n",
    "print(df_train.isnull().values.any(), df_test.isnull().values.any())"
   ]
  },
  {
   "cell_type": "markdown",
   "metadata": {},
   "source": [
    "Since there are no null values in both df_train and df_test. We don't need to remove any observations that are not applicable. Thus we can move on to visualizations."
   ]
  },
  {
   "cell_type": "code",
   "execution_count": 16,
   "metadata": {},
   "outputs": [
    {
     "data": {
      "text/plain": [
       "43"
      ]
     },
     "execution_count": 16,
     "metadata": {},
     "output_type": "execute_result"
    }
   ],
   "source": [
    "# Finding Total Number of Classes/Types of Signs\n",
    "NUM_CLASSES = len(os.listdir(train_path))\n",
    "NUM_CLASSES"
   ]
  },
  {
   "cell_type": "code",
   "execution_count": 17,
   "metadata": {},
   "outputs": [],
   "source": [
    "# Create Human Readable Label Overview\n",
    "classes = { 0:'Speed limit (20km/h)',\n",
    "            1:'Speed limit (30km/h)', \n",
    "            2:'Speed limit (50km/h)', \n",
    "            3:'Speed limit (60km/h)', \n",
    "            4:'Speed limit (70km/h)', \n",
    "            5:'Speed limit (80km/h)', \n",
    "            6:'End of speed limit (80km/h)', \n",
    "            7:'Speed limit (100km/h)', \n",
    "            8:'Speed limit (120km/h)', \n",
    "            9:'No passing', \n",
    "            10:'No passing veh over 3.5 tons', \n",
    "            11:'Right-of-way at intersection', \n",
    "            12:'Priority road', \n",
    "            13:'Yield', \n",
    "            14:'Stop', \n",
    "            15:'No vehicles', \n",
    "            16:'Veh > 3.5 tons prohibited', \n",
    "            17:'No entry', \n",
    "            18:'General caution', \n",
    "            19:'Dangerous curve left', \n",
    "            20:'Dangerous curve right', \n",
    "            21:'Double curve', \n",
    "            22:'Bumpy road', \n",
    "            23:'Slippery road', \n",
    "            24:'Road narrows on the right', \n",
    "            25:'Road work', \n",
    "            26:'Traffic signals', \n",
    "            27:'Pedestrians', \n",
    "            28:'Children crossing', \n",
    "            29:'Bicycles crossing', \n",
    "            30:'Beware of ice/snow',\n",
    "            31:'Wild animals crossing', \n",
    "            32:'End speed + passing limits', \n",
    "            33:'Turn right ahead', \n",
    "            34:'Turn left ahead', \n",
    "            35:'Ahead only', \n",
    "            36:'Go straight or right', \n",
    "            37:'Go straight or left', \n",
    "            38:'Keep right', \n",
    "            39:'Keep left', \n",
    "            40:'Roundabout mandatory', \n",
    "            41:'End of no passing', \n",
    "            42:'End no passing veh > 3.5 tons' }"
   ]
  },
  {
   "cell_type": "code",
   "execution_count": 18,
   "metadata": {},
   "outputs": [
    {
     "data": {
      "image/png": "[encoded data removed]",
      "text/plain": [
       "<Figure size 1512x792 with 1 Axes>"
      ]
     },
     "metadata": {},
     "output_type": "display_data"
    }
   ],
   "source": [
    "# Prep data for visualization\n",
    "folders = os.listdir(train_path)\n",
    "\n",
    "train_num = []\n",
    "class_num = []\n",
    "\n",
    "for folder in folders:\n",
    "    # Append the number of each class of images to an array\n",
    "    train_num.append(len(os.listdir(train_path + '/' + folder)))\n",
    "    class_num.append(classes[int(folder)])\n",
    "    \n",
    "# Sorting the dataset by number of images per class\n",
    "sorted_pairs = sorted(zip(train_num, class_num))\n",
    "tuples = zip(*sorted_pairs)\n",
    "train_num, class_num = [ list(tuple) for tuple in  tuples]\n",
    "\n",
    "# Plotting the frquency of each class of images\n",
    "plt.figure(figsize=(21,11))\n",
    "plt.xlabel(\"Frequency\")  \n",
    "plt.title(\"Frequency of Each Type of Traffic Sign in the Dataset\")\n",
    "# plt.bar(class_num, train_num, color='#e28743')\n",
    "plt.barh(class_num, train_num, color='#e28743');\n",
    "# plt.xticks(class_num, rotation=90)"
   ]
  },
  {
   "cell_type": "markdown",
   "metadata": {},
   "source": [
    "As we can see, speed limit sign occurs more often than dangerous curve signs."
   ]
  },
  {
   "cell_type": "markdown",
   "metadata": {},
   "source": [
    "Before jumping into model training section. We want to visualize example of image of a traffic sign in our training dataset and testing set."
   ]
  },
  {
   "cell_type": "code",
   "execution_count": 19,
   "metadata": {},
   "outputs": [
    {
     "name": "stdout",
     "output_type": "stream",
     "text": [
      "20 Train/20/00020_00000_00001.png\n"
     ]
    },
    {
     "data": {
      "text/plain": [
       "<matplotlib.image.AxesImage at 0x1c942038fd0>"
      ]
     },
     "execution_count": 19,
     "metadata": {},
     "output_type": "execute_result"
    },
    {
     "data": {
      "image/png": "[encoded data removed]",
      "text/plain": [
       "<Figure size 432x288 with 1 Axes>"
      ]
     },
     "metadata": {},
     "output_type": "display_data"
    }
   ],
   "source": [
    "# training picture example\n",
    "print(df_train['ClassId'][1], df_train['Path'][1])\n",
    "img = Image.open('Data/' + df_train['Path'][1])\n",
    "plt.imshow(img)"
   ]
  },
  {
   "cell_type": "code",
   "execution_count": 20,
   "metadata": {},
   "outputs": [
    {
     "name": "stdout",
     "output_type": "stream",
     "text": [
      "01 Test/00001.png\n"
     ]
    },
    {
     "data": {
      "text/plain": [
       "<matplotlib.image.AxesImage at 0x1c9420a6460>"
      ]
     },
     "execution_count": 20,
     "metadata": {},
     "output_type": "execute_result"
    },
    {
     "data": {
      "image/png": "[encoded data removed]",
      "text/plain": [
       "<Figure size 432x288 with 1 Axes>"
      ]
     },
     "metadata": {},
     "output_type": "display_data"
    }
   ],
   "source": [
    "# testing picture example\n",
    "print(df_test['ClassId'][1], df_test['Path'][1])\n",
    "img = Image.open('Data/' + df_test['Path'][1])\n",
    "plt.imshow(img)"
   ]
  },
  {
   "cell_type": "markdown",
   "metadata": {},
   "source": [
    "# Proposed Solution\n",
    "\n",
    "Our proposed solution is to use a CNN to classify the images in the dataset. The images themselves would need to be converted to a format such that the image data can be fit into numpy arrays. Additionally, the labels of the dataset would need to be one-hot encoded so that calculations and predictions can be made. The model itself would be made using libraries such as tensorflow or keras, and the image data would need to be shuffled for the models to be trained properly. A portion of the dataset would be used as training data while the other will be used as testing/validation data. The solution will be tested by comparing the predicted ID of an image with the image’s actual class ID to calculate the accuracy of the model. The benchmark model against which our solution will be tested is a model by Shivank Sharma with a 98% accuracy: https://www.kaggle.com/code/shivank856/gtsrb-cnn-98-test-accuracy"
   ]
  },
  {
   "cell_type": "markdown",
   "metadata": {},
   "source": [
    "# Evaluation Metrics\n",
    "\n",
    "Propose at least one evaluation metric that can be used to quantify the performance of both the benchmark model and the solution model. The evaluation metric(s) you propose should be appropriate given the context of the data, the problem statement, and the intended solution. Describe how the evaluation metric(s) are derived and provide an example of their mathematical representations (if applicable). Complex evaluation metrics should be clearly defined and quantifiable (can be expressed in mathematical or logical terms).\n",
    "\n",
    "\n",
    "One of the evaluation metrics we would use to evaluate performance of our model is to figure out the accuracy of prediction for the trained model. Firstly, we could calculate accuracy by comparing predicted results to our test templet, and then compare the accuracy with the benchmark model’s accuracy(98%). The average accuracy of our predicted model should be close to or more than 98%, which should be close or even better to the benchmark model's accuracy. \n",
    "\n",
    "We calculate Accuracy by dividing the number of accurately predicted records by the total number of records. In our project, we use model.fit() to gain the metrics that we need to calculate accuracy, because it generates output predictions for the input samples and display the accuracies for our predicted data and tested data.\n",
    "\n",
    "We can also use recall and precision metrics to measure the model's performance. Details will be elaborated in the conclusion."
   ]
  },
  {
   "cell_type": "markdown",
   "metadata": {},
   "source": [
    "# Results"
   ]
  },
  {
   "cell_type": "code",
   "execution_count": 21,
   "metadata": {},
   "outputs": [],
   "source": [
    "# Import Modeling Tools\n",
    "import cv2\n",
    "import tensorflow as tf\n",
    "from tensorflow import keras\n",
    "from sklearn.model_selection import train_test_split\n",
    "from tensorflow.keras.preprocessing.image import ImageDataGenerator\n",
    "from tensorflow.keras.optimizers import Adam\n",
    "from sklearn.metrics import accuracy_score\n",
    "from sklearn.metrics import precision_score\n",
    "from sklearn.metrics import f1_score\n",
    "from sklearn.metrics import recall_score\n",
    "np.random.seed(42)"
   ]
  },
  {
   "cell_type": "markdown",
   "metadata": {},
   "source": [
    "#### Collect the Training Data from Train.csv"
   ]
  },
  {
   "cell_type": "code",
   "execution_count": 22,
   "metadata": {},
   "outputs": [],
   "source": [
    "# Resizing the images to 30x30x3\n",
    "IMG_HEIGHT = 20\n",
    "IMG_WIDTH = 20\n",
    "channels = 3"
   ]
  },
  {
   "cell_type": "code",
   "execution_count": 23,
   "metadata": {},
   "outputs": [
    {
     "name": "stdout",
     "output_type": "stream",
     "text": [
      "(39209, 20, 20, 3) (39209,)\n"
     ]
    }
   ],
   "source": [
    "# gather images and the corresponding labels\n",
    "image_data = []\n",
    "image_labels = []\n",
    "\n",
    "for i in range(NUM_CLASSES):\n",
    "    images = os.listdir(data_dir + '/Train/' + str(i))\n",
    "\n",
    "    for img in images:\n",
    "        image = cv2.imread(data_dir + '/Train/' + str(i) + '/' + img)\n",
    "        image_fromarray = Image.fromarray(image, 'RGB')\n",
    "        resize_image = image_fromarray.resize((IMG_HEIGHT, IMG_WIDTH))\n",
    "        image_data.append(np.array(resize_image))\n",
    "        image_labels.append(i)\n",
    "\n",
    "# Changing the list to numpy array\n",
    "image_data = np.array(image_data)\n",
    "image_labels = np.array(image_labels)\n",
    "\n",
    "print(image_data.shape, image_labels.shape)"
   ]
  },
  {
   "cell_type": "code",
   "execution_count": 24,
   "metadata": {},
   "outputs": [
    {
     "data": {
      "text/plain": [
       "array([[ 81,  79,  76],\n",
       "       [ 83,  81,  81],\n",
       "       [ 75,  76,  77],\n",
       "       [ 69,  79,  81],\n",
       "       [123, 117, 118]], dtype=uint8)"
      ]
     },
     "execution_count": 24,
     "metadata": {},
     "output_type": "execute_result"
    }
   ],
   "source": [
    "# Those numbers are RGB numbers for pixels (the first 5 pixels in the first image)\n",
    "image_data[0][:5,0]"
   ]
  },
  {
   "cell_type": "code",
   "execution_count": 25,
   "metadata": {},
   "outputs": [
    {
     "data": {
      "text/plain": [
       "array([ 0,  0,  0, ..., 42, 42, 42])"
      ]
     },
     "execution_count": 25,
     "metadata": {},
     "output_type": "execute_result"
    }
   ],
   "source": [
    "# The label code for each image data\n",
    "image_labels"
   ]
  },
  {
   "cell_type": "markdown",
   "metadata": {},
   "source": [
    "#### Shuffle the Data and split it into traning set and test set"
   ]
  },
  {
   "cell_type": "code",
   "execution_count": 26,
   "metadata": {},
   "outputs": [
    {
     "name": "stdout",
     "output_type": "stream",
     "text": [
      "[30003 23050 21060 ... 38158   860 15795]\n"
     ]
    }
   ],
   "source": [
    "shuffle_idx = np.arange(image_data.shape[0])\n",
    "np.random.shuffle(shuffle_idx)\n",
    "# check the shuffled indexes\n",
    "print(shuffle_idx)\n",
    "image_data = image_data[shuffle_idx]\n",
    "image_labels = image_labels[shuffle_idx]"
   ]
  },
  {
   "cell_type": "code",
   "execution_count": 27,
   "metadata": {},
   "outputs": [
    {
     "name": "stdout",
     "output_type": "stream",
     "text": [
      "X_train.shape (27446, 20, 20, 3)\n",
      "X_test.shape (11763, 20, 20, 3)\n",
      "y_train.shape (27446,)\n",
      "y_test.shape (11763,)\n"
     ]
    }
   ],
   "source": [
    "# Split with 0.3 and 0.7\n",
    "X_train, X_test, y_train, y_test = train_test_split(image_data, image_labels, test_size=0.3, random_state=42, shuffle=True)\n",
    "# get the proportion of each channels in colors (how red, how green, how blue)\n",
    "# Normalize the values\n",
    "X_train = X_train/255 \n",
    "X_test = X_test/255\n",
    "print(\"X_train.shape\", X_train.shape)\n",
    "print(\"X_test.shape\", X_test.shape)\n",
    "print(\"y_train.shape\", y_train.shape)\n",
    "print(\"y_test.shape\", y_test.shape)"
   ]
  },
  {
   "cell_type": "markdown",
   "metadata": {},
   "source": [
    "Notice that the shape doesn't change. We only change the values into proportions."
   ]
  },
  {
   "cell_type": "markdown",
   "metadata": {},
   "source": [
    "#### One-Hot Encode the Labels"
   ]
  },
  {
   "cell_type": "code",
   "execution_count": 28,
   "metadata": {},
   "outputs": [
    {
     "name": "stdout",
     "output_type": "stream",
     "text": [
      "(27446, 43)\n",
      "(11763, 43)\n"
     ]
    }
   ],
   "source": [
    "# tf.keras.utils.to_categorical: Converts a class vector (integers) to binary class matrix.\n",
    "y_train = keras.utils.to_categorical(y_train, NUM_CLASSES)\n",
    "y_test = keras.utils.to_categorical(y_test, NUM_CLASSES)\n",
    "\n",
    "print(y_train.shape)\n",
    "print(y_test.shape)"
   ]
  },
  {
   "cell_type": "code",
   "execution_count": 29,
   "metadata": {
    "scrolled": true
   },
   "outputs": [
    {
     "name": "stdout",
     "output_type": "stream",
     "text": [
      "[[0. 0. 0. ... 0. 0. 0.]\n",
      " [0. 0. 0. ... 0. 0. 0.]\n",
      " [0. 0. 0. ... 0. 0. 0.]\n",
      " ...\n",
      " [0. 0. 0. ... 0. 0. 0.]\n",
      " [0. 0. 0. ... 0. 0. 0.]\n",
      " [0. 0. 0. ... 0. 0. 0.]] [[0. 0. 0. ... 0. 0. 0.]\n",
      " [0. 0. 0. ... 0. 0. 0.]\n",
      " [0. 0. 0. ... 0. 0. 0.]\n",
      " ...\n",
      " [0. 0. 0. ... 0. 0. 0.]\n",
      " [0. 0. 1. ... 0. 0. 0.]\n",
      " [0. 0. 0. ... 0. 0. 0.]]\n",
      "[0. 1.] [0. 1.]\n"
     ]
    }
   ],
   "source": [
    "# check the binary one hot encoding matrix\n",
    "print(y_train, y_test)\n",
    "# check whether the values has only 0 or 1\n",
    "print(np.unique(y_train), np.unique(y_test))"
   ]
  },
  {
   "cell_type": "markdown",
   "metadata": {},
   "source": [
    "### Subsection 1: Create the baseline Sequantial Keras CNN with all default Hyperparameters"
   ]
  },
  {
   "cell_type": "code",
   "execution_count": 30,
   "metadata": {},
   "outputs": [],
   "source": [
    "# define layers\n",
    "layer_1 = keras.layers.Conv2D(filters=16, kernel_size=(3,3), input_shape=(IMG_HEIGHT,IMG_WIDTH,channels))\n",
    "layer_2 = keras.layers.Conv2D(filters=16, kernel_size=(3,3))\n",
    "layer_3 = keras.layers.Conv2D(filters=16, kernel_size=(3,3))\n",
    "layer_4 = keras.layers.Conv2D(filters=16, kernel_size=(3,3))\n",
    "# define max pool\n",
    "max_pool = keras.layers.MaxPool2D(pool_size=(2, 2))\n",
    "# create a model\n",
    "model = keras.models.Sequential()\n",
    "\n",
    "# adding the layers that we have defined earlier\n",
    "model.add(layer_1)\n",
    "model.add(layer_2)\n",
    "model.add(max_pool)\n",
    "model.add(keras.layers.BatchNormalization(axis=-1))\n",
    "\n",
    "model.add(layer_3)\n",
    "model.add(layer_4)\n",
    "model.add(max_pool)\n",
    "model.add(keras.layers.BatchNormalization(axis=-1))\n",
    "\n",
    "model.add(keras.layers.Flatten())\n",
    "model.add(keras.layers.Dense(512))\n",
    "model.add(keras.layers.BatchNormalization())\n",
    "model.add(keras.layers.Dropout(rate=0.5))\n",
    "model.add(keras.layers.Dense(43))"
   ]
  },
  {
   "cell_type": "markdown",
   "metadata": {},
   "source": [
    "We build the model by defining the 4 2D convolution layer that are used for image receognition. These four layers that we are going to add each layer into the sequantial model and each of them contains 16 filters and the kernel size are all set to (3,3).\n",
    "\n",
    "\n",
    "Now a model is \"built\", so we can call its summary() method to display the contents"
   ]
  },
  {
   "cell_type": "code",
   "execution_count": 31,
   "metadata": {
    "scrolled": false
   },
   "outputs": [
    {
     "name": "stdout",
     "output_type": "stream",
     "text": [
      "Model: \"sequential\"\n",
      "_________________________________________________________________\n",
      " Layer (type)                Output Shape              Param #   \n",
      "=================================================================\n",
      " conv2d (Conv2D)             (None, 18, 18, 16)        448       \n",
      "                                                                 \n",
      " conv2d_1 (Conv2D)           (None, 16, 16, 16)        2320      \n",
      "                                                                 \n",
      " max_pooling2d (MaxPooling2D  multiple                 0         \n",
      " )                                                               \n",
      "                                                                 \n",
      " batch_normalization (BatchN  (None, 8, 8, 16)         64        \n",
      " ormalization)                                                   \n",
      "                                                                 \n",
      " conv2d_2 (Conv2D)           (None, 6, 6, 16)          2320      \n",
      "                                                                 \n",
      " conv2d_3 (Conv2D)           (None, 4, 4, 16)          2320      \n",
      "                                                                 \n",
      " batch_normalization_1 (Batc  (None, 2, 2, 16)         64        \n",
      " hNormalization)                                                 \n",
      "                                                                 \n",
      " flatten (Flatten)           (None, 64)                0         \n",
      "                                                                 \n",
      " dense (Dense)               (None, 512)               33280     \n",
      "                                                                 \n",
      " batch_normalization_2 (Batc  (None, 512)              2048      \n",
      " hNormalization)                                                 \n",
      "                                                                 \n",
      " dropout (Dropout)           (None, 512)               0         \n",
      "                                                                 \n",
      " dense_1 (Dense)             (None, 43)                22059     \n",
      "                                                                 \n",
      "=================================================================\n",
      "Total params: 64,923\n",
      "Trainable params: 63,835\n",
      "Non-trainable params: 1,088\n",
      "_________________________________________________________________\n"
     ]
    }
   ],
   "source": [
    "model.summary()"
   ]
  },
  {
   "cell_type": "markdown",
   "metadata": {},
   "source": [
    "For the conv2d_3 layer, number of params is 2320. Similarly, for the dense_1 layer, the number of params is 22059. Same things can be concluded for other layers."
   ]
  },
  {
   "cell_type": "markdown",
   "metadata": {},
   "source": [
    "before fitting the model to our data, we will need to compile the layers with our model and add the corresponding optimizer"
   ]
  },
  {
   "cell_type": "code",
   "execution_count": 32,
   "metadata": {},
   "outputs": [],
   "source": [
    "# define number of interations for the training and the learning rate for the optimizer\n",
    "learning_rate = 0.001\n",
    "epochs = 30\n",
    "opt = Adam(learning_rate=learning_rate, decay=learning_rate / (epochs * 0.5))\n",
    "model.compile(loss='categorical_crossentropy', optimizer=opt, metrics=['accuracy'])"
   ]
  },
  {
   "cell_type": "code",
   "execution_count": 33,
   "metadata": {},
   "outputs": [
    {
     "name": "stdout",
     "output_type": "stream",
     "text": [
      "Epoch 1/30\n",
      "858/858 [==============================] - 9s 9ms/step - loss: 8.3738 - accuracy: 0.0543 - val_loss: 7.6130 - val_accuracy: 0.0644\n",
      "Epoch 2/30\n",
      "858/858 [==============================] - 8s 9ms/step - loss: 8.2875 - accuracy: 0.0467 - val_loss: 8.7425 - val_accuracy: 0.0451\n",
      "Epoch 3/30\n",
      "858/858 [==============================] - 8s 9ms/step - loss: 8.3875 - accuracy: 0.0485 - val_loss: 7.0178 - val_accuracy: 0.0612\n",
      "Epoch 4/30\n",
      "858/858 [==============================] - 8s 9ms/step - loss: 8.1692 - accuracy: 0.0528 - val_loss: 7.6168 - val_accuracy: 0.0480\n",
      "Epoch 5/30\n",
      "858/858 [==============================] - 8s 9ms/step - loss: 8.2200 - accuracy: 0.0423 - val_loss: 9.2634 - val_accuracy: 0.0282\n",
      "Epoch 6/30\n",
      "858/858 [==============================] - 8s 9ms/step - loss: 8.1775 - accuracy: 0.0341 - val_loss: 7.9324 - val_accuracy: 0.0467\n",
      "Epoch 7/30\n",
      "858/858 [==============================] - 8s 9ms/step - loss: 8.1531 - accuracy: 0.0469 - val_loss: 7.3289 - val_accuracy: 0.0518\n",
      "Epoch 8/30\n",
      "858/858 [==============================] - 8s 9ms/step - loss: 8.1175 - accuracy: 0.0436 - val_loss: 8.5385 - val_accuracy: 0.0406\n",
      "Epoch 9/30\n",
      "858/858 [==============================] - 8s 9ms/step - loss: 8.0016 - accuracy: 0.0386 - val_loss: 9.0562 - val_accuracy: 0.0445\n",
      "Epoch 10/30\n",
      "858/858 [==============================] - 8s 9ms/step - loss: 8.0864 - accuracy: 0.0450 - val_loss: 8.9110 - val_accuracy: 0.0521\n",
      "Epoch 11/30\n",
      "858/858 [==============================] - 8s 10ms/step - loss: 8.0471 - accuracy: 0.0431 - val_loss: 7.0589 - val_accuracy: 0.0490\n",
      "Epoch 12/30\n",
      "858/858 [==============================] - 8s 9ms/step - loss: 8.0301 - accuracy: 0.0435 - val_loss: 9.0244 - val_accuracy: 0.0595\n",
      "Epoch 13/30\n",
      "858/858 [==============================] - 8s 9ms/step - loss: 8.0256 - accuracy: 0.0484 - val_loss: 6.8684 - val_accuracy: 0.0586\n",
      "Epoch 14/30\n",
      "858/858 [==============================] - 8s 9ms/step - loss: 8.0585 - accuracy: 0.0545 - val_loss: 9.2494 - val_accuracy: 0.0639\n",
      "Epoch 15/30\n",
      "858/858 [==============================] - 8s 9ms/step - loss: 8.1375 - accuracy: 0.0483 - val_loss: 7.1891 - val_accuracy: 0.0470\n",
      "Epoch 16/30\n",
      "858/858 [==============================] - 8s 9ms/step - loss: 8.0139 - accuracy: 0.0488 - val_loss: 7.1755 - val_accuracy: 0.0522\n",
      "Epoch 17/30\n",
      "858/858 [==============================] - 8s 9ms/step - loss: 8.2081 - accuracy: 0.0490 - val_loss: 8.9064 - val_accuracy: 0.0553\n",
      "Epoch 18/30\n",
      "858/858 [==============================] - 8s 9ms/step - loss: 7.9868 - accuracy: 0.0462 - val_loss: 6.9346 - val_accuracy: 0.0476\n",
      "Epoch 19/30\n",
      "858/858 [==============================] - 8s 9ms/step - loss: 8.1028 - accuracy: 0.0428 - val_loss: 7.0995 - val_accuracy: 0.0470\n",
      "Epoch 20/30\n",
      "858/858 [==============================] - 8s 9ms/step - loss: 8.0323 - accuracy: 0.0420 - val_loss: 8.6067 - val_accuracy: 0.0286\n",
      "Epoch 21/30\n",
      "858/858 [==============================] - 8s 10ms/step - loss: 8.0646 - accuracy: 0.0406 - val_loss: 9.1594 - val_accuracy: 0.0412\n",
      "Epoch 22/30\n",
      "858/858 [==============================] - 8s 10ms/step - loss: 8.0637 - accuracy: 0.0426 - val_loss: 8.8202 - val_accuracy: 0.0413\n",
      "Epoch 23/30\n",
      "858/858 [==============================] - 8s 10ms/step - loss: 8.0451 - accuracy: 0.0413 - val_loss: 7.8785 - val_accuracy: 0.0349\n",
      "Epoch 24/30\n",
      "858/858 [==============================] - 8s 9ms/step - loss: 8.1369 - accuracy: 0.0446 - val_loss: 9.1152 - val_accuracy: 0.0586\n",
      "Epoch 25/30\n",
      "858/858 [==============================] - 8s 10ms/step - loss: 8.1977 - accuracy: 0.0471 - val_loss: 8.4078 - val_accuracy: 0.0428\n",
      "Epoch 26/30\n",
      "858/858 [==============================] - 8s 9ms/step - loss: 7.9815 - accuracy: 0.0483 - val_loss: 7.7202 - val_accuracy: 0.0372\n",
      "Epoch 27/30\n",
      "858/858 [==============================] - 8s 10ms/step - loss: 7.9466 - accuracy: 0.0438 - val_loss: 8.5672 - val_accuracy: 0.0475\n",
      "Epoch 28/30\n",
      "858/858 [==============================] - 8s 9ms/step - loss: 8.1678 - accuracy: 0.0401 - val_loss: 9.0210 - val_accuracy: 0.0451\n",
      "Epoch 29/30\n",
      "858/858 [==============================] - 8s 9ms/step - loss: 8.1458 - accuracy: 0.0425 - val_loss: 7.6380 - val_accuracy: 0.0411\n",
      "Epoch 30/30\n",
      "858/858 [==============================] - 8s 9ms/step - loss: 8.1581 - accuracy: 0.0490 - val_loss: 8.6934 - val_accuracy: 0.0565\n"
     ]
    }
   ],
   "source": [
    "# using the default parameters for the Image data generator from tensorflow\n",
    "augmentation = ImageDataGenerator()\n",
    "\n",
    "\n",
    "# fitting the model with our data\n",
    "fit = model.fit(augmentation.flow(X_train, y_train), epochs=epochs, validation_data=(X_test, y_test))"
   ]
  },
  {
   "cell_type": "code",
   "execution_count": 34,
   "metadata": {},
   "outputs": [
    {
     "data": {
      "image/png": "[encoded data removed]",
      "text/plain": [
       "<Figure size 576x360 with 1 Axes>"
      ]
     },
     "metadata": {},
     "output_type": "display_data"
    }
   ],
   "source": [
    "# plotting the epochs vs the score of loss, accuracy, validation loss, and validation accuracy for every epoch\n",
    "pd.DataFrame(fit.history).plot(figsize=(8, 5))\n",
    "plt.grid(True)\n",
    "plt.gca().set_ylim(0, 0.1)\n",
    "plt.title('Baseline model performance')\n",
    "plt.xlabel('epochs')\n",
    "plt.ylabel('scores')\n",
    "plt.show()"
   ]
  },
  {
   "cell_type": "markdown",
   "metadata": {},
   "source": [
    "As the graph shows, our accuracy is around 0.05 and they are not getting any better for more epochs.\n",
    "\n",
    "This tells us that we need to modify our hyper parameter of the model to better fit the data."
   ]
  },
  {
   "cell_type": "markdown",
   "metadata": {},
   "source": [
    "To further understand the accuracy of our model, we will use the test data to predict with our models and examine the accuracy score"
   ]
  },
  {
   "cell_type": "code",
   "execution_count": 35,
   "metadata": {},
   "outputs": [
    {
     "name": "stdout",
     "output_type": "stream",
     "text": [
      "395/395 [==============================] - 1s 2ms/step\n",
      "Test Data accuracy:  0.0613618368962787\n"
     ]
    }
   ],
   "source": [
    "# retrieve the original test.csv\n",
    "df_test = pd.read_csv(data_dir + '/Test.csv')\n",
    "\n",
    "# take the values of the path of each test image\n",
    "path_of_images = df_test[\"Path\"].values\n",
    "\n",
    "# append each resized image sizes into the new list called data\n",
    "data =[]\n",
    "for img in path_of_images:\n",
    "    try:\n",
    "        im = cv2.imread(data_dir + '/' + img)\n",
    "        image_from_array = Image.fromarray(im, 'RGB')\n",
    "        resized_image = image_from_array.resize((IMG_HEIGHT, IMG_WIDTH))\n",
    "        data.append(np.array(resized_image))\n",
    "    except:\n",
    "        print(\"Error in \" + img)\n",
    "        \n",
    "# divide the new X_test data by the color range of 255\n",
    "X_test_new = np.array(data)\n",
    "X_test_new = X_test_new/255\n",
    "\n",
    "# create the predictions and take the max accuracy predictions\n",
    "predict_x = model.predict(X_test_new) \n",
    "pred = np.argmax(predict_x , axis=1)\n",
    "classid = df_test[\"ClassId\"].values\n",
    "\n",
    "#Accuracy with the test data\n",
    "print('Test Data accuracy: ', accuracy_score(classid, pred))"
   ]
  },
  {
   "cell_type": "code",
   "execution_count": 36,
   "metadata": {},
   "outputs": [
    {
     "name": "stderr",
     "output_type": "stream",
     "text": [
      "C:\\Users\\yty20\\anaconda3\\lib\\site-packages\\sklearn\\metrics\\_classification.py:1318: UndefinedMetricWarning: Precision is ill-defined and being set to 0.0 in labels with no predicted samples. Use `zero_division` parameter to control this behavior.\n",
      "  _warn_prf(average, modifier, msg_start, len(result))\n"
     ]
    }
   ],
   "source": [
    "# create the precision score from our prediction accuracy\n",
    "precisionScore = precision_score(classid, pred, average='macro')"
   ]
  },
  {
   "cell_type": "code",
   "execution_count": 37,
   "metadata": {},
   "outputs": [],
   "source": [
    "recallScore = recall_score(classid, pred, average='macro')"
   ]
  },
  {
   "cell_type": "code",
   "execution_count": 38,
   "metadata": {},
   "outputs": [
    {
     "data": {
      "text/plain": [
       "0.029074556955645713"
      ]
     },
     "execution_count": 38,
     "metadata": {},
     "output_type": "execute_result"
    }
   ],
   "source": [
    "f1Score = 2 * (precisionScore * recallScore) / (precisionScore + recallScore)\n",
    "f1Score"
   ]
  },
  {
   "cell_type": "markdown",
   "metadata": {},
   "source": [
    "The f1 score for our baseline model is 0.029074556955645713, and this aligns with the graphic result of of baseline model predictions which is not so accurate. Therefore we need to modify our hyper parameter for our model."
   ]
  },
  {
   "cell_type": "markdown",
   "metadata": {},
   "source": [
    "### Subsection 2: Final model with appropriate hyperparameters\n",
    "\n",
    "As can be seen in subsection 1, the performance of the CNN with default hyperparameters is horrible, and definitely not usable as it is. With an accuracy and F1 score lower than 10%, it is not feasible to use it in the real world at all. Therefore, the hyperparameters have to be tuned so that the model is not only usable, but also quite good at traffic sign classification. The key hyperparameters of this CNN are the filter size, number of CNN layers, and the kernel size through which each image is passed through. It is quite typical to start with a lower number of filters and a larger kernel size in the first layer, and then increase the number of filters while decreasing kernel size to achieve a more accurate prediction. "
   ]
  },
  {
   "cell_type": "code",
   "execution_count": 39,
   "metadata": {},
   "outputs": [],
   "source": [
    "# hyperparameters were referenced from https://www.kaggle.com/code/lalithmovva/99-accuracy-on-german-traffic-sign-recognition\n",
    "# define layers\n",
    "# increase the number of filters and decrease the kernel size per layer\n",
    "final_layer_1 = keras.layers.Conv2D(filters=16, kernel_size=(5,5), activation='relu', input_shape=(IMG_HEIGHT,IMG_WIDTH,channels))\n",
    "final_layer_2 = keras.layers.Conv2D(filters=32, kernel_size=(5,5))\n",
    "final_layer_3 = keras.layers.Conv2D(filters=64, kernel_size=(3,3))\n",
    "final_layer_4 = keras.layers.Conv2D(filters=64, kernel_size=(3,3))\n",
    "\n",
    "# define max pool\n",
    "final_max_pool = keras.layers.MaxPool2D(pool_size=(2, 2))\n",
    "\n",
    "# create a sequential model\n",
    "final_model = keras.models.Sequential()\n",
    "# add the first two layers of the CNN\n",
    "final_model.add(final_layer_1)\n",
    "final_model.add(final_layer_2)\n",
    "final_model.add(final_max_pool)\n",
    "final_model.add(keras.layers.BatchNormalization(axis=-1))\n",
    "\n",
    "# add the last two layers of the CNN\n",
    "final_model.add(final_layer_3)\n",
    "final_model.add(final_layer_4)\n",
    "final_model.add(final_max_pool)\n",
    "final_model.add(keras.layers.BatchNormalization(axis=-1))\n",
    "\n",
    "# flatten the input to make the data easier to process\n",
    "final_model.add(keras.layers.Flatten())\n",
    "final_model.add(keras.layers.Dense(256, activation='relu'))\n",
    "final_model.add(keras.layers.BatchNormalization())\n",
    "final_model.add(keras.layers.Dropout(rate=0.5))\n",
    "final_model.add(keras.layers.Dense(43, activation='softmax'))\n",
    "\n",
    "final_model.compile(loss='categorical_crossentropy', optimizer='Adam', metrics=['accuracy'])"
   ]
  },
  {
   "cell_type": "code",
   "execution_count": 40,
   "metadata": {},
   "outputs": [
    {
     "name": "stdout",
     "output_type": "stream",
     "text": [
      "Epoch 1/30\n",
      "858/858 [==============================] - 11s 12ms/step - loss: 0.8761 - accuracy: 0.7698 - val_loss: 0.1946 - val_accuracy: 0.9449\n",
      "Epoch 2/30\n",
      "858/858 [==============================] - 11s 13ms/step - loss: 0.1800 - accuracy: 0.9489 - val_loss: 0.0940 - val_accuracy: 0.9742\n",
      "Epoch 3/30\n",
      "858/858 [==============================] - 10s 12ms/step - loss: 0.1212 - accuracy: 0.9643 - val_loss: 0.0632 - val_accuracy: 0.9805\n",
      "Epoch 4/30\n",
      "858/858 [==============================] - 10s 12ms/step - loss: 0.0899 - accuracy: 0.9737 - val_loss: 0.0487 - val_accuracy: 0.9864\n",
      "Epoch 5/30\n",
      "858/858 [==============================] - 10s 12ms/step - loss: 0.0818 - accuracy: 0.9746 - val_loss: 0.0731 - val_accuracy: 0.9799\n",
      "Epoch 6/30\n",
      "858/858 [==============================] - 10s 11ms/step - loss: 0.0629 - accuracy: 0.9813 - val_loss: 0.0437 - val_accuracy: 0.9874\n",
      "Epoch 7/30\n",
      "858/858 [==============================] - 10s 12ms/step - loss: 0.0628 - accuracy: 0.9800 - val_loss: 0.0359 - val_accuracy: 0.9908\n",
      "Epoch 8/30\n",
      "858/858 [==============================] - 10s 12ms/step - loss: 0.0567 - accuracy: 0.9825 - val_loss: 0.0395 - val_accuracy: 0.9883\n",
      "Epoch 9/30\n",
      "858/858 [==============================] - 10s 11ms/step - loss: 0.0504 - accuracy: 0.9847 - val_loss: 0.0313 - val_accuracy: 0.9910\n",
      "Epoch 10/30\n",
      "858/858 [==============================] - 10s 12ms/step - loss: 0.0507 - accuracy: 0.9848 - val_loss: 0.0282 - val_accuracy: 0.9919\n",
      "Epoch 11/30\n",
      "858/858 [==============================] - 10s 12ms/step - loss: 0.0415 - accuracy: 0.9867 - val_loss: 0.0402 - val_accuracy: 0.9875\n",
      "Epoch 12/30\n",
      "858/858 [==============================] - 10s 12ms/step - loss: 0.0465 - accuracy: 0.9853 - val_loss: 0.0449 - val_accuracy: 0.9862\n",
      "Epoch 13/30\n",
      "858/858 [==============================] - 10s 12ms/step - loss: 0.0345 - accuracy: 0.9893 - val_loss: 0.0296 - val_accuracy: 0.9912\n",
      "Epoch 14/30\n",
      "858/858 [==============================] - 10s 12ms/step - loss: 0.0337 - accuracy: 0.9890 - val_loss: 0.0226 - val_accuracy: 0.9939\n",
      "Epoch 15/30\n",
      "858/858 [==============================] - 10s 12ms/step - loss: 0.0384 - accuracy: 0.9879 - val_loss: 0.0314 - val_accuracy: 0.9914\n",
      "Epoch 16/30\n",
      "858/858 [==============================] - 10s 12ms/step - loss: 0.0304 - accuracy: 0.9905 - val_loss: 0.0231 - val_accuracy: 0.9946\n",
      "Epoch 17/30\n",
      "858/858 [==============================] - 10s 12ms/step - loss: 0.0248 - accuracy: 0.9925 - val_loss: 0.0186 - val_accuracy: 0.9951\n",
      "Epoch 18/30\n",
      "858/858 [==============================] - 10s 12ms/step - loss: 0.0272 - accuracy: 0.9915 - val_loss: 0.0267 - val_accuracy: 0.9930\n",
      "Epoch 19/30\n",
      "858/858 [==============================] - 10s 12ms/step - loss: 0.0276 - accuracy: 0.9910 - val_loss: 0.0170 - val_accuracy: 0.9957\n",
      "Epoch 20/30\n",
      "858/858 [==============================] - 10s 12ms/step - loss: 0.0296 - accuracy: 0.9902 - val_loss: 0.0220 - val_accuracy: 0.9941\n",
      "Epoch 21/30\n",
      "858/858 [==============================] - 10s 12ms/step - loss: 0.0239 - accuracy: 0.9923 - val_loss: 0.0155 - val_accuracy: 0.9965\n",
      "Epoch 22/30\n",
      "858/858 [==============================] - 10s 11ms/step - loss: 0.0255 - accuracy: 0.9919 - val_loss: 0.0293 - val_accuracy: 0.9930\n",
      "Epoch 23/30\n",
      "858/858 [==============================] - 10s 12ms/step - loss: 0.0241 - accuracy: 0.9926 - val_loss: 0.0251 - val_accuracy: 0.9943\n",
      "Epoch 24/30\n",
      "858/858 [==============================] - 11s 12ms/step - loss: 0.0234 - accuracy: 0.9923 - val_loss: 0.0197 - val_accuracy: 0.9958\n",
      "Epoch 25/30\n",
      "858/858 [==============================] - 10s 12ms/step - loss: 0.0199 - accuracy: 0.9940 - val_loss: 0.0372 - val_accuracy: 0.9911\n",
      "Epoch 26/30\n",
      "858/858 [==============================] - 10s 12ms/step - loss: 0.0219 - accuracy: 0.9933 - val_loss: 0.0177 - val_accuracy: 0.9947\n",
      "Epoch 27/30\n",
      "858/858 [==============================] - 10s 12ms/step - loss: 0.0187 - accuracy: 0.9937 - val_loss: 0.0204 - val_accuracy: 0.9956\n",
      "Epoch 28/30\n",
      "858/858 [==============================] - 10s 11ms/step - loss: 0.0219 - accuracy: 0.9934 - val_loss: 0.0305 - val_accuracy: 0.9928\n",
      "Epoch 29/30\n",
      "858/858 [==============================] - 10s 12ms/step - loss: 0.0228 - accuracy: 0.9925 - val_loss: 0.0216 - val_accuracy: 0.9956\n",
      "Epoch 30/30\n",
      "858/858 [==============================] - 10s 11ms/step - loss: 0.0194 - accuracy: 0.9942 - val_loss: 0.0169 - val_accuracy: 0.9963\n"
     ]
    }
   ],
   "source": [
    "# Set the number of epochs to run the model for\n",
    "epochs = 30\n",
    "\n",
    "# augment the images to make it easier to make predictions\n",
    "aug = ImageDataGenerator()\n",
    "# fit the model \n",
    "final_history = final_model.fit(aug.flow(X_train, y_train), epochs=epochs, validation_data=(X_test, y_test))"
   ]
  },
  {
   "cell_type": "markdown",
   "metadata": {},
   "source": [
    "As can be seen from the above results, the loss and validation loss are very close to 0, while the accuracy and validation accuracy of the mode go as high as 99%! This shows the importance of choosing the right hyperparameters to fit a CNN model. To visualize the performance, the results from each epoch above will be graphed: "
   ]
  },
  {
   "cell_type": "code",
   "execution_count": 41,
   "metadata": {},
   "outputs": [
    {
     "data": {
      "image/png": "[encoded data removed]",
      "text/plain": [
       "<Figure size 720x360 with 1 Axes>"
      ]
     },
     "metadata": {},
     "output_type": "display_data"
    }
   ],
   "source": [
    "# plot the performance of the model over each epoch\n",
    "pd.DataFrame(final_history.history).plot(figsize=(10, 5))\n",
    "plt.grid(True)\n",
    "plt.gca().set_ylim(0, 1)\n",
    "plt.title('Final model performance')\n",
    "plt.xlabel('epochs')\n",
    "plt.ylabel('score')\n",
    "plt.show()"
   ]
  },
  {
   "cell_type": "markdown",
   "metadata": {},
   "source": [
    "As can be seen, the accuracy and validation accuracy of the model reach their peak values at around 10 epochs, while loss and validation loss reach an asymptotic limit at around 10 epochs as well. \n",
    "The final model is performing well because as the epochs increase, the accuracy gets higher and the loss gets lower, meaning that each epoch is training the CNN to be more accurate in its predictions. The last step is to evaluate the performance of the model with a testing set. "
   ]
  },
  {
   "cell_type": "code",
   "execution_count": 44,
   "metadata": {},
   "outputs": [
    {
     "name": "stdout",
     "output_type": "stream",
     "text": [
      "395/395 [==============================] - 1s 2ms/step\n",
      "Test Data accuracy:  0.9638163103721299\n"
     ]
    }
   ],
   "source": [
    "# Evaluate final model performance \n",
    "final_test = pd.read_csv(data_dir + '/Test.csv')\n",
    "\n",
    "final_labels = final_test[\"ClassId\"].values\n",
    "final_imgs = final_test[\"Path\"].values\n",
    "\n",
    "final_data =[]\n",
    "# create the data array that will be passed into the model for the prediction test\n",
    "for img in final_imgs:\n",
    "    final_image = cv2.imread(data_dir + '/' +img)\n",
    "    final_image_from_array = Image.fromarray(final_image, 'RGB')\n",
    "    resize_image = final_image_from_array.resize((IMG_HEIGHT, IMG_WIDTH))\n",
    "    final_data.append(np.array(resize_image))\n",
    "\n",
    "X_test = np.array(final_data)\n",
    "X_test = X_test/255\n",
    "\n",
    "\n",
    "final_predict_x = final_model.predict(X_test) \n",
    "final_pred = np.argmax(final_predict_x,axis=1)\n",
    "print('Test Data accuracy: ', accuracy_score(final_labels, final_pred))"
   ]
  },
  {
   "cell_type": "markdown",
   "metadata": {},
   "source": [
    "The accuracy of the finalized model with the tuned hyperparameters was able to reach an accuracy of 96.38% with the testing data, much better than the baseline model's abysmal 6.14%. This means that the final model can quite reliably classify each type of traffic sign. However, accuracy is not everything when measuring the performance of a model. The precision, recall and F1 score are also important. "
   ]
  },
  {
   "cell_type": "markdown",
   "metadata": {},
   "source": [
    "### Subsection 3: Add recall, precision, and F1 score metrics"
   ]
  },
  {
   "cell_type": "code",
   "execution_count": 45,
   "metadata": {},
   "outputs": [
    {
     "name": "stdout",
     "output_type": "stream",
     "text": [
      "Test Data precision:  0.949642219088427\n",
      "Test Data recall:  0.9375585413537891\n",
      "Test Data F1:  0.9435616945468928\n"
     ]
    }
   ],
   "source": [
    "# calculate the performance metrics for the final model\n",
    "final_precision = precision_score(final_labels, final_pred, average='macro')\n",
    "final_recall = recall_score(final_labels, final_pred, average='macro')\n",
    "final_f1 = 2 * (final_precision * final_recall) / (final_precision + final_recall)\n",
    "\n",
    "\n",
    "print('Test Data precision: ', final_precision)\n",
    "print('Test Data recall: ', final_recall)\n",
    "print('Test Data F1: ', final_f1)"
   ]
  },
  {
   "cell_type": "markdown",
   "metadata": {},
   "source": [
    "As can be seen from the results, the model has 94.96% precision in predicting which traffic sign is being passed into the CNN, meaning that it is quite good at predicting true positives. On the other hand, the recall is only a little lower at 93.75%, meaning that the model is also quite good at minimizing the number of false negatives. The F1 score is also a respectabe 94.36%, suggesting that the model is overall quite effective at classifying German traffic signs. "
   ]
  },
  {
   "cell_type": "markdown",
   "metadata": {},
   "source": [
    "# Discussion\n",
    "\n",
    "### Interpreting the result\n",
    "\n",
    "Main point: The model can predict German traffic signs very well.\n",
    "\n",
    "The accuracy is 0.9638163103721299, which is very high. Since accuracy is defined as the proportion of predictions that are correct. We know that xx of traffic signs predictions are correct. Imagine a smart car use this model to identify traffic signs, you will constantly see correct predictions while driving!\n",
    "\n",
    "Subpoint 1: \n",
    "The recall is the proportion of actually positive instances that are correctly classified. We know that 0.9375585413537891 of actually positive instances that are correctly classified. We want a high recall score because false negatives are really bad in traffic signs recognition: they mean that a sign goes undetected.\n",
    "\n",
    "Subpoint 2:\n",
    "The precision is the proportion of predicted positive instances that are correctly classified. We know that 0.949642219088427 of predicted positive instances that are correctly classified. We want a high precision score because false positives are really bad in traffic signs recognition: they mean that a sign is identified to other signs! This could be dangerous since we don’t want to identify speed limit 25m/h to 65m/h!\n",
    "\n",
    "Subpoint 3:\n",
    "Since both recall and precision are important, we can use F1-score. F1-score cares equally about a model's precision and recall. Our final F1-score is 0.9435616945468928, which is very decent since it is above 0.9!\n",
    "\n",
    "### Limitations\n",
    "\n",
    "Since in class we didn’t learn how to set appropriate hyperparameters for GridSearchCV and apply it to the sequential model, we trained a base model with default parameters. To make some progress and explore more, we referred to hyperparameters in a Kaggle’s project <a name=\"admonish\"></a>[<sup>[4]</sup>](#admonishnote) and made some changes to tune the hyperparameters for GridSearchCV for the sequential model. Besides, all the photos are traffic signs in German, so our dataset is limited to this country and our model cannot be used to predict traffic signs in all other countries.\n",
    "\n",
    "### Ethics & Privacy\n",
    "\n",
    "Lack of transparency of AI tools/ lack of trust: Since the process of AI decision-making is not visible to humans, so AI’s intelligence so far is not very reliable compared to humans’ intelligence to make some crucial decisions. Although it’s a concern if our model is used as part of functions in autonomous vehicles, our model can also be used as an assistance for drivers to help them make better decisions on the road. Thus, our project could avoid potential risks in the usage of AI tools.\n",
    "\n",
    "AI is not neutral: Since AI decision-making is largely dependent on the datasets we trained and used, there could be some bias like too much data for majorities and too little data for minorities in a category. Although our dataset involves more than 40 classes of traffic signs and more than 50000 observations, there’s no bias on distributions of different classes of traffic signs, so our AI model will be relatively neutral.\n",
    "\n",
    "Disappearance of jobs: Based on the AI functions of our project, which is recognizing traffic lights and giving instructions like “No entry” or “Turn left ahead”, our project might be used as a traffic indicator for passengers or a part of functions in autonomous vehicles in German. The potential impact of our project on the job market is substitution of traffic police or professional drivers in German.\n",
    "\n",
    "Privacy & public rights/security violation: Our project only uses data of traffic signs in German. There’s no threats to personal privacy or public security since it doesn’t involve sensitive information, and researchers in our group have no bias to datasets or reason to conduct deception in the project.\n",
    "\n",
    "Beneficence: The usage of our model is to help construct a better traffic-decision system in autonomous vehicles or give suggestions and reminders to drivers, which has no harm to our research subjects like users of autonomous vehicles and drivers.\n",
    "\n",
    "Justice: Since our project has no involvement in commercial interests to our researchers, we have no concerns on justice of our project.\n",
    "\n",
    "### Conclusion\n",
    "\n",
    "The accuracy is 0.9638163103721299, which is very high. Since accuracy is defined as the proportion of correct predictions. We know that 0.9638163103721299 of traffic signs predictions are correct. This high accuracy is inspiring because it provides the foundation for self-driving technologies. With the combination of a nice traffic signs recognition model and a car computer to control steering and speed, we get to peek at the root principle of the self-driving algorithm in smart cars like Tesla. This model has many potential improvements, such as making the signs clearer and adjusting image angles inside the model. In real-world applications, images taken while driving can have low quality due to backlighting, bad angles, or dirt on the camera. The model cannot help you clean your car camera, but it can use some algorithms to make the pictures more recognizable to the machine and thus improve accuracy."
   ]
  },
  {
   "cell_type": "markdown",
   "metadata": {},
   "source": [
    "# Footnotes\n",
    "<a name=\"lorenznote\"></a>1.[^](#lorenz): Dh, Rosebrock, A., Rathod, Y., Gulzar, S., Andrey, Cassar, J. P., Klimchuk, N., Holdroyd, T., Zizo, Trevor, Andy, Davi, Butts, N., Suraj, Denis, Shahril, Biram, Ikram, A., Keith, … Shamsudheen. (2022, January 31). Traffic sign classification with Keras and deep learning. PyImageSearch. Retrieved April 24, 2022, from https://pyimagesearch.com/2019/11/04/traffic-sign-classification-with-keras-and-deep-learning/#download-the-code\n",
    "<br> \n",
    "<a name=\"admonishnote\"></a>2.[^](#admonish): Escalera, A. de la, Armingol, J. M., &amp; Mata, M. (2003, January 15). Traffic sign recognition and analysis for intelligent vehicles. Image and Vision Computing. Retrieved April 24, 2022, from https://www.sciencedirect.com/science/article/abs/pii/S0262885602001567?via%3Dihub <br>\n",
    "<a name=\"admonishnote\"></a>3.[^](#admonish): Shustanov, A., &amp; Yakimov, P. (2017). A method for traffic sign recognition with CNN using GPU. Proceedings of the 14th International Joint Conference on e-Business and Telecommunications. https://doi.org/10.5220/0006436100420047  <br>\n",
    "<a name=\"admonishnote\"></a>4.[^](#admonish): 99% accuracy on German Traffic Sign Recognition\n",
    "https://www.kaggle.com/code/lalithmovva/99-accuracy-on-german-traffic-sign-recognition  <br>"
   ]
  }
 ],
 "metadata": {
  "kernelspec": {
   "display_name": "Python 3 (ipykernel)",
   "language": "python",
   "name": "python3"
  },
  "language_info": {
   "codemirror_mode": {
    "name": "ipython",
    "version": 3
   },
   "file_extension": ".py",
   "mimetype": "text/x-python",
   "name": "python",
   "nbconvert_exporter": "python",
   "pygments_lexer": "ipython3",
   "version": "3.9.12"
  }
 },
 "nbformat": 4,
 "nbformat_minor": 2
}
